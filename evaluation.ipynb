{
 "cells": [
  {
   "cell_type": "code",
   "execution_count": 1,
   "metadata": {},
   "outputs": [],
   "source": [
    "import random\n",
    "import numpy as np\n",
    "import pandas as pd\n",
    "import matplotlib.pyplot as plt\n",
    "from mpl_toolkits.mplot3d import Axes3D\n",
    "import seaborn as sns\n",
    "import scipy\n",
    "\n",
    "# Dim Reduction\n",
    "from sklearn.decomposition import PCA, SparsePCA\n",
    "from sklearn.manifold import TSNE, LocallyLinearEmbedding, Isomap\n",
    "import umap\n",
    "\n",
    "# NLP\n",
    "from sklearn.feature_extraction.text import CountVectorizer, TfidfVectorizer\n",
    "\n",
    "# Outlier detection\n",
    "from sklearn.neighbors import LocalOutlierFactor\n",
    "from sklearn.ensemble import IsolationForest\n",
    "from sklearn.covariance import EllipticEnvelope\n",
    "\n",
    "# Classifiers\n",
    "from sklearn.model_selection import train_test_split\n",
    "from sklearn.linear_model import SGDRegressor, SGDClassifier\n",
    "from sklearn.neighbors import KNeighborsRegressor, KNeighborsClassifier\n",
    "\n",
    "from sklearn.linear_model import LogisticRegression\n",
    "from sklearn.tree import DecisionTreeClassifier\n",
    "from sklearn.ensemble import RandomForestClassifier, GradientBoostingClassifier\n",
    "from xgboost import XGBClassifier\n",
    "\n",
    "# Metrics\n",
    "from sklearn.metrics import accuracy_score"
   ]
  },
  {
   "cell_type": "code",
   "execution_count": 2,
   "metadata": {},
   "outputs": [
    {
     "data": {
      "text/html": [
       "<div>\n",
       "<style scoped>\n",
       "    .dataframe tbody tr th:only-of-type {\n",
       "        vertical-align: middle;\n",
       "    }\n",
       "\n",
       "    .dataframe tbody tr th {\n",
       "        vertical-align: top;\n",
       "    }\n",
       "\n",
       "    .dataframe thead th {\n",
       "        text-align: right;\n",
       "    }\n",
       "</style>\n",
       "<table border=\"1\" class=\"dataframe\">\n",
       "  <thead>\n",
       "    <tr style=\"text-align: right;\">\n",
       "      <th></th>\n",
       "      <th>id</th>\n",
       "      <th>title</th>\n",
       "      <th>link</th>\n",
       "      <th>series</th>\n",
       "      <th>cover_link</th>\n",
       "      <th>author</th>\n",
       "      <th>author_link</th>\n",
       "      <th>rating_count</th>\n",
       "      <th>review_count</th>\n",
       "      <th>average_rating</th>\n",
       "      <th>...</th>\n",
       "      <th>isbn13</th>\n",
       "      <th>asin</th>\n",
       "      <th>settings</th>\n",
       "      <th>characters</th>\n",
       "      <th>awards</th>\n",
       "      <th>amazon_redirect_link</th>\n",
       "      <th>worldcat_redirect_link</th>\n",
       "      <th>recommended_books</th>\n",
       "      <th>books_in_series</th>\n",
       "      <th>description</th>\n",
       "    </tr>\n",
       "  </thead>\n",
       "  <tbody>\n",
       "    <tr>\n",
       "      <th>0</th>\n",
       "      <td>630104</td>\n",
       "      <td>Inner Circle</td>\n",
       "      <td>https://www.goodreads.com//book/show/630104.In...</td>\n",
       "      <td>(Private #5)</td>\n",
       "      <td>https://i.gr-assets.com/images/S/compressed.ph...</td>\n",
       "      <td>Kate Brian, Julian Peploe</td>\n",
       "      <td>https://www.goodreads.com/author/show/94091.Ka...</td>\n",
       "      <td>7597</td>\n",
       "      <td>196</td>\n",
       "      <td>4.03</td>\n",
       "      <td>...</td>\n",
       "      <td>9781416950417</td>\n",
       "      <td>NaN</td>\n",
       "      <td>NaN</td>\n",
       "      <td>NaN</td>\n",
       "      <td>NaN</td>\n",
       "      <td>https://www.goodreads.com//book_link/follow/17...</td>\n",
       "      <td>https://www.goodreads.com//book_link/follow/8?...</td>\n",
       "      <td>726458, 726458, 1537534, 3047848, 1651302, 304...</td>\n",
       "      <td>381489, 381501, 352428, 630103, 1783281, 17832...</td>\n",
       "      <td>Reed Brennan arrived at Easton Academy expecti...</td>\n",
       "    </tr>\n",
       "    <tr>\n",
       "      <th>1</th>\n",
       "      <td>9487</td>\n",
       "      <td>A Time to Embrace</td>\n",
       "      <td>https://www.goodreads.com//book/show/9487.A_Ti...</td>\n",
       "      <td>(Timeless Love #2)</td>\n",
       "      <td>https://i.gr-assets.com/images/S/compressed.ph...</td>\n",
       "      <td>Karen Kingsbury</td>\n",
       "      <td>https://www.goodreads.com/author/show/3159984....</td>\n",
       "      <td>4179</td>\n",
       "      <td>177</td>\n",
       "      <td>4.35</td>\n",
       "      <td>...</td>\n",
       "      <td>9781595542328</td>\n",
       "      <td>NaN</td>\n",
       "      <td>NaN</td>\n",
       "      <td>NaN</td>\n",
       "      <td>NaN</td>\n",
       "      <td>https://www.goodreads.com//book_link/follow/17...</td>\n",
       "      <td>https://www.goodreads.com//book_link/follow/8?...</td>\n",
       "      <td>127352, 127352, 40642197, 127353, 127354, 3891...</td>\n",
       "      <td>115036</td>\n",
       "      <td>Ideje az Ã¶lelÃ©snek TÃ¶rtÃ©net a remÃ©nyrÅl,...</td>\n",
       "    </tr>\n",
       "    <tr>\n",
       "      <th>2</th>\n",
       "      <td>6050894</td>\n",
       "      <td>Take Two</td>\n",
       "      <td>https://www.goodreads.com//book/show/6050894-t...</td>\n",
       "      <td>(Above the Line #2)</td>\n",
       "      <td>https://i.gr-assets.com/images/S/compressed.ph...</td>\n",
       "      <td>Karen Kingsbury</td>\n",
       "      <td>https://www.goodreads.com/author/show/3159984....</td>\n",
       "      <td>6288</td>\n",
       "      <td>218</td>\n",
       "      <td>4.23</td>\n",
       "      <td>...</td>\n",
       "      <td>NaN</td>\n",
       "      <td>NaN</td>\n",
       "      <td>Bloomington, Indiana(United States)</td>\n",
       "      <td>NaN</td>\n",
       "      <td>NaN</td>\n",
       "      <td>https://www.goodreads.com//book_link/follow/17...</td>\n",
       "      <td>https://www.goodreads.com//book_link/follow/8?...</td>\n",
       "      <td>706250, 706250, 666481, 11942636, 706241, 1273...</td>\n",
       "      <td>4010795, 40792877, 7306261</td>\n",
       "      <td>Filmmakers Chase Ryan and Keith Ellison have c...</td>\n",
       "    </tr>\n",
       "    <tr>\n",
       "      <th>3</th>\n",
       "      <td>39030</td>\n",
       "      <td>Reliquary</td>\n",
       "      <td>https://www.goodreads.com//book/show/39030.Rel...</td>\n",
       "      <td>(Pendergast #2)</td>\n",
       "      <td>https://i.gr-assets.com/images/S/compressed.ph...</td>\n",
       "      <td>Douglas Preston, Lincoln Child</td>\n",
       "      <td>https://www.goodreads.com/author/show/12577.Do...</td>\n",
       "      <td>38382</td>\n",
       "      <td>1424</td>\n",
       "      <td>4.01</td>\n",
       "      <td>...</td>\n",
       "      <td>9780765354952</td>\n",
       "      <td>NaN</td>\n",
       "      <td>New York State(United States) New York City, N...</td>\n",
       "      <td>Aloysius X.L. Pendergast, Margo Green, William...</td>\n",
       "      <td>NaN</td>\n",
       "      <td>https://www.goodreads.com//book_link/follow/17...</td>\n",
       "      <td>https://www.goodreads.com//book_link/follow/8?...</td>\n",
       "      <td>39026, 39026, 11007668, 3986318, 51887330, 194...</td>\n",
       "      <td>67035, 39031, 39033, 136637, 136638, 30068, 39...</td>\n",
       "      <td>NaN</td>\n",
       "    </tr>\n",
       "    <tr>\n",
       "      <th>4</th>\n",
       "      <td>998</td>\n",
       "      <td>The Millionaire Next Door: The Surprising Secr...</td>\n",
       "      <td>https://www.goodreads.com//book/show/998.The_M...</td>\n",
       "      <td>NaN</td>\n",
       "      <td>https://i.gr-assets.com/images/S/compressed.ph...</td>\n",
       "      <td>Thomas J. Stanley, William D. Danko</td>\n",
       "      <td>https://www.goodreads.com/author/show/659.Thom...</td>\n",
       "      <td>72168</td>\n",
       "      <td>3217</td>\n",
       "      <td>4.04</td>\n",
       "      <td>...</td>\n",
       "      <td>9780671015206</td>\n",
       "      <td>NaN</td>\n",
       "      <td>NaN</td>\n",
       "      <td>NaN</td>\n",
       "      <td>Independent Publisher Book Award (IPPY) Nomine...</td>\n",
       "      <td>https://www.goodreads.com//book_link/follow/17...</td>\n",
       "      <td>https://www.goodreads.com//book_link/follow/8?...</td>\n",
       "      <td>1052, 1052, 763362, 69571, 78427, 30186948, 10...</td>\n",
       "      <td>NaN</td>\n",
       "      <td>The incredible national bestseller that is cha...</td>\n",
       "    </tr>\n",
       "  </tbody>\n",
       "</table>\n",
       "<p>5 rows × 31 columns</p>\n",
       "</div>"
      ],
      "text/plain": [
       "        id                                              title  \\\n",
       "0   630104                                       Inner Circle   \n",
       "1     9487                                  A Time to Embrace   \n",
       "2  6050894                                           Take Two   \n",
       "3    39030                                          Reliquary   \n",
       "4      998  The Millionaire Next Door: The Surprising Secr...   \n",
       "\n",
       "                                                link               series  \\\n",
       "0  https://www.goodreads.com//book/show/630104.In...         (Private #5)   \n",
       "1  https://www.goodreads.com//book/show/9487.A_Ti...   (Timeless Love #2)   \n",
       "2  https://www.goodreads.com//book/show/6050894-t...  (Above the Line #2)   \n",
       "3  https://www.goodreads.com//book/show/39030.Rel...      (Pendergast #2)   \n",
       "4  https://www.goodreads.com//book/show/998.The_M...                  NaN   \n",
       "\n",
       "                                          cover_link  \\\n",
       "0  https://i.gr-assets.com/images/S/compressed.ph...   \n",
       "1  https://i.gr-assets.com/images/S/compressed.ph...   \n",
       "2  https://i.gr-assets.com/images/S/compressed.ph...   \n",
       "3  https://i.gr-assets.com/images/S/compressed.ph...   \n",
       "4  https://i.gr-assets.com/images/S/compressed.ph...   \n",
       "\n",
       "                                author  \\\n",
       "0            Kate Brian, Julian Peploe   \n",
       "1                      Karen Kingsbury   \n",
       "2                      Karen Kingsbury   \n",
       "3       Douglas Preston, Lincoln Child   \n",
       "4  Thomas J. Stanley, William D. Danko   \n",
       "\n",
       "                                         author_link  rating_count  \\\n",
       "0  https://www.goodreads.com/author/show/94091.Ka...          7597   \n",
       "1  https://www.goodreads.com/author/show/3159984....          4179   \n",
       "2  https://www.goodreads.com/author/show/3159984....          6288   \n",
       "3  https://www.goodreads.com/author/show/12577.Do...         38382   \n",
       "4  https://www.goodreads.com/author/show/659.Thom...         72168   \n",
       "\n",
       "   review_count  average_rating  ...         isbn13  asin  \\\n",
       "0           196            4.03  ...  9781416950417   NaN   \n",
       "1           177            4.35  ...  9781595542328   NaN   \n",
       "2           218            4.23  ...            NaN   NaN   \n",
       "3          1424            4.01  ...  9780765354952   NaN   \n",
       "4          3217            4.04  ...  9780671015206   NaN   \n",
       "\n",
       "                                            settings  \\\n",
       "0                                                NaN   \n",
       "1                                                NaN   \n",
       "2                Bloomington, Indiana(United States)   \n",
       "3  New York State(United States) New York City, N...   \n",
       "4                                                NaN   \n",
       "\n",
       "                                          characters  \\\n",
       "0                                                NaN   \n",
       "1                                                NaN   \n",
       "2                                                NaN   \n",
       "3  Aloysius X.L. Pendergast, Margo Green, William...   \n",
       "4                                                NaN   \n",
       "\n",
       "                                              awards  \\\n",
       "0                                                NaN   \n",
       "1                                                NaN   \n",
       "2                                                NaN   \n",
       "3                                                NaN   \n",
       "4  Independent Publisher Book Award (IPPY) Nomine...   \n",
       "\n",
       "                                amazon_redirect_link  \\\n",
       "0  https://www.goodreads.com//book_link/follow/17...   \n",
       "1  https://www.goodreads.com//book_link/follow/17...   \n",
       "2  https://www.goodreads.com//book_link/follow/17...   \n",
       "3  https://www.goodreads.com//book_link/follow/17...   \n",
       "4  https://www.goodreads.com//book_link/follow/17...   \n",
       "\n",
       "                              worldcat_redirect_link  \\\n",
       "0  https://www.goodreads.com//book_link/follow/8?...   \n",
       "1  https://www.goodreads.com//book_link/follow/8?...   \n",
       "2  https://www.goodreads.com//book_link/follow/8?...   \n",
       "3  https://www.goodreads.com//book_link/follow/8?...   \n",
       "4  https://www.goodreads.com//book_link/follow/8?...   \n",
       "\n",
       "                                   recommended_books  \\\n",
       "0  726458, 726458, 1537534, 3047848, 1651302, 304...   \n",
       "1  127352, 127352, 40642197, 127353, 127354, 3891...   \n",
       "2  706250, 706250, 666481, 11942636, 706241, 1273...   \n",
       "3  39026, 39026, 11007668, 3986318, 51887330, 194...   \n",
       "4  1052, 1052, 763362, 69571, 78427, 30186948, 10...   \n",
       "\n",
       "                                     books_in_series  \\\n",
       "0  381489, 381501, 352428, 630103, 1783281, 17832...   \n",
       "1                                             115036   \n",
       "2                         4010795, 40792877, 7306261   \n",
       "3  67035, 39031, 39033, 136637, 136638, 30068, 39...   \n",
       "4                                                NaN   \n",
       "\n",
       "                                         description  \n",
       "0  Reed Brennan arrived at Easton Academy expecti...  \n",
       "1  Ideje az Ã¶lelÃ©snek TÃ¶rtÃ©net a remÃ©nyrÅl,...  \n",
       "2  Filmmakers Chase Ryan and Keith Ellison have c...  \n",
       "3                                                NaN  \n",
       "4  The incredible national bestseller that is cha...  \n",
       "\n",
       "[5 rows x 31 columns]"
      ]
     },
     "execution_count": 2,
     "metadata": {},
     "output_type": "execute_result"
    }
   ],
   "source": [
    "data = pd.read_csv(\"goodreads_books.csv\", header=0)\n",
    "\n",
    "data.head()"
   ]
  },
  {
   "cell_type": "code",
   "execution_count": 3,
   "metadata": {},
   "outputs": [
    {
     "data": {
      "text/plain": [
       "id                          int64\n",
       "title                      object\n",
       "link                       object\n",
       "series                     object\n",
       "cover_link                 object\n",
       "author                     object\n",
       "author_link                object\n",
       "rating_count                int64\n",
       "review_count                int64\n",
       "average_rating            float64\n",
       "five_star_ratings           int64\n",
       "four_star_ratings           int64\n",
       "three_star_ratings          int64\n",
       "two_star_ratings            int64\n",
       "one_star_ratings            int64\n",
       "number_of_pages           float64\n",
       "date_published             object\n",
       "publisher                  object\n",
       "original_title             object\n",
       "genre_and_votes            object\n",
       "isbn                       object\n",
       "isbn13                     object\n",
       "asin                       object\n",
       "settings                   object\n",
       "characters                 object\n",
       "awards                     object\n",
       "amazon_redirect_link       object\n",
       "worldcat_redirect_link     object\n",
       "recommended_books          object\n",
       "books_in_series            object\n",
       "description                object\n",
       "dtype: object"
      ]
     },
     "execution_count": 3,
     "metadata": {},
     "output_type": "execute_result"
    }
   ],
   "source": [
    "data.dtypes"
   ]
  },
  {
   "cell_type": "code",
   "execution_count": 4,
   "metadata": {},
   "outputs": [
    {
     "name": "stdout",
     "output_type": "stream",
     "text": [
      "Date shape: (52199, 31)\n"
     ]
    }
   ],
   "source": [
    "print(f\"Date shape: {data.shape}\")"
   ]
  },
  {
   "cell_type": "markdown",
   "metadata": {},
   "source": [
    "## Date formatting"
   ]
  },
  {
   "cell_type": "code",
   "execution_count": 14,
   "metadata": {},
   "outputs": [],
   "source": [
    "day_dict = ['1st','2nd','3rd','4th','5th','6th','7th','8th','9th',\n",
    "            '10th','11th','12th','13th','14th','15th','16th','17th','18th','19th',\n",
    "            '20th','21st','22nd','23rd','24th','25th','26th','27th','28th','29th',\n",
    "            '30th','31st']\n",
    "day_dict = dict(zip( day_dict,range(1,32) ))\n",
    "\n",
    "month_dict = ['January','February','March','April','May','June',\n",
    "             'July','August','September','October','November','December']\n",
    "month_dict = dict(zip( month_dict,np.cumsum([0,31,28,31,30,31,30,31,31,30,31,30]) ))"
   ]
  },
  {
   "cell_type": "code",
   "execution_count": 15,
   "metadata": {},
   "outputs": [],
   "source": [
    "tmp = data['date_published'].str.rsplit(' ', expand=False)\n",
    "\n",
    "date_list = np.zeros((len(tmp),), dtype=int)\n",
    "for i in tmp.index[~pd.isna(tmp)]:\n",
    "    date = tmp[i]\n",
    "    date_sum = 0\n",
    "    \n",
    "    for part in date:\n",
    "        if part in month_dict:\n",
    "            date_sum += month_dict[part]\n",
    "        elif part in day_dict:\n",
    "            date_sum += day_dict[part]\n",
    "        else:\n",
    "            date_sum += int(part)*365\n",
    "\n",
    "    date_list[i] = date_sum"
   ]
  },
  {
   "cell_type": "code",
   "execution_count": 16,
   "metadata": {},
   "outputs": [],
   "source": [
    "data['date_published_numeric'] = date_list"
   ]
  },
  {
   "cell_type": "code",
   "execution_count": 17,
   "metadata": {},
   "outputs": [
    {
     "data": {
      "text/plain": [
       "0        732556\n",
       "1        732492\n",
       "2        733286\n",
       "3        728905\n",
       "4        728476\n",
       "          ...  \n",
       "52194    732555\n",
       "52195    735208\n",
       "52196    715765\n",
       "52197    732669\n",
       "52198    733286\n",
       "Name: date_published_numeric, Length: 52199, dtype: int64"
      ]
     },
     "execution_count": 17,
     "metadata": {},
     "output_type": "execute_result"
    }
   ],
   "source": [
    "data['date_published_numeric']"
   ]
  },
  {
   "cell_type": "code",
   "execution_count": 18,
   "metadata": {},
   "outputs": [
    {
     "name": "stdout",
     "output_type": "stream",
     "text": [
      "Books Published Before Year 0:\n"
     ]
    },
    {
     "data": {
      "text/html": [
       "<div>\n",
       "<style scoped>\n",
       "    .dataframe tbody tr th:only-of-type {\n",
       "        vertical-align: middle;\n",
       "    }\n",
       "\n",
       "    .dataframe tbody tr th {\n",
       "        vertical-align: top;\n",
       "    }\n",
       "\n",
       "    .dataframe thead th {\n",
       "        text-align: right;\n",
       "    }\n",
       "</style>\n",
       "<table border=\"1\" class=\"dataframe\">\n",
       "  <thead>\n",
       "    <tr style=\"text-align: right;\">\n",
       "      <th></th>\n",
       "      <th>title</th>\n",
       "      <th>date_published</th>\n",
       "    </tr>\n",
       "  </thead>\n",
       "  <tbody>\n",
       "    <tr>\n",
       "      <th>163</th>\n",
       "      <td>Tanakh: The Holy Scriptures</td>\n",
       "      <td>-450</td>\n",
       "    </tr>\n",
       "    <tr>\n",
       "      <th>255</th>\n",
       "      <td>The I Ching or Book of Changes</td>\n",
       "      <td>-850</td>\n",
       "    </tr>\n",
       "    <tr>\n",
       "      <th>736</th>\n",
       "      <td>The Analects</td>\n",
       "      <td>-429</td>\n",
       "    </tr>\n",
       "    <tr>\n",
       "      <th>2692</th>\n",
       "      <td>Homeric Hymns</td>\n",
       "      <td>-600</td>\n",
       "    </tr>\n",
       "    <tr>\n",
       "      <th>3397</th>\n",
       "      <td>Phaedo</td>\n",
       "      <td>-380</td>\n",
       "    </tr>\n",
       "    <tr>\n",
       "      <th>...</th>\n",
       "      <td>...</td>\n",
       "      <td>...</td>\n",
       "    </tr>\n",
       "    <tr>\n",
       "      <th>49706</th>\n",
       "      <td>The Bacchae</td>\n",
       "      <td>-405</td>\n",
       "    </tr>\n",
       "    <tr>\n",
       "      <th>49888</th>\n",
       "      <td>The Torah: The Five Books of Moses</td>\n",
       "      <td>-400</td>\n",
       "    </tr>\n",
       "    <tr>\n",
       "      <th>50541</th>\n",
       "      <td>The Conquest of Gaul</td>\n",
       "      <td>-50</td>\n",
       "    </tr>\n",
       "    <tr>\n",
       "      <th>51922</th>\n",
       "      <td>The Art of Love</td>\n",
       "      <td>-1</td>\n",
       "    </tr>\n",
       "    <tr>\n",
       "      <th>52138</th>\n",
       "      <td>The Persian Expedition</td>\n",
       "      <td>-390</td>\n",
       "    </tr>\n",
       "  </tbody>\n",
       "</table>\n",
       "<p>87 rows × 2 columns</p>\n",
       "</div>"
      ],
      "text/plain": [
       "                                    title date_published\n",
       "163           Tanakh: The Holy Scriptures           -450\n",
       "255        The I Ching or Book of Changes           -850\n",
       "736                          The Analects           -429\n",
       "2692                        Homeric Hymns           -600\n",
       "3397                               Phaedo           -380\n",
       "...                                   ...            ...\n",
       "49706                         The Bacchae           -405\n",
       "49888  The Torah: The Five Books of Moses           -400\n",
       "50541                The Conquest of Gaul            -50\n",
       "51922                     The Art of Love             -1\n",
       "52138              The Persian Expedition           -390\n",
       "\n",
       "[87 rows x 2 columns]"
      ]
     },
     "execution_count": 18,
     "metadata": {},
     "output_type": "execute_result"
    }
   ],
   "source": [
    "print(\"Books Published Before Year 0:\")\n",
    "data[data['date_published_numeric'] < 0][['title','date_published']]"
   ]
  },
  {
   "cell_type": "code",
   "execution_count": 19,
   "metadata": {},
   "outputs": [
    {
     "data": {
      "image/png": "[encoded data removed]",
      "text/plain": [
       "<Figure size 1008x432 with 1 Axes>"
      ]
     },
     "metadata": {
      "needs_background": "light"
     },
     "output_type": "display_data"
    }
   ],
   "source": [
    "fig,ax = plt.subplots(figsize=(14,6))\n",
    "ax.set_title(\"Publishing Date Frequency\")\n",
    "sns.histplot(data['date_published_numeric']/365, ax=ax);"
   ]
  },
  {
   "cell_type": "markdown",
   "metadata": {},
   "source": [
    "This graph is just to demonstrate that most books were published in the recent past, but there are exceptions such as religious texts."
   ]
  },
  {
   "cell_type": "markdown",
   "metadata": {},
   "source": [
    "### Count awards\n",
    "\n",
    "Make feature that counts the number of awards each book received."
   ]
  },
  {
   "cell_type": "code",
   "execution_count": 20,
   "metadata": {},
   "outputs": [],
   "source": [
    "ind = data['awards'].notna()\n",
    "data['awards_count'] = data['awards'][ind].str.split(',').map(len)\n",
    "data['awards_count'].fillna(0, inplace=True)\n",
    "data['awards_count'] = data['awards_count'].astype('int32')"
   ]
  },
  {
   "cell_type": "code",
   "execution_count": 21,
   "metadata": {},
   "outputs": [
    {
     "data": {
      "text/plain": [
       "0        0\n",
       "1        0\n",
       "2        0\n",
       "3        0\n",
       "4        1\n",
       "        ..\n",
       "52194    0\n",
       "52195    2\n",
       "52196    2\n",
       "52197    0\n",
       "52198    0\n",
       "Name: awards_count, Length: 52199, dtype: int32"
      ]
     },
     "execution_count": 21,
     "metadata": {},
     "output_type": "execute_result"
    }
   ],
   "source": [
    "data['awards_count']"
   ]
  },
  {
   "cell_type": "code",
   "execution_count": 22,
   "metadata": {
    "scrolled": false
   },
   "outputs": [
    {
     "data": {
      "image/png": "[encoded data removed]",
      "text/plain": [
       "<Figure size 1008x432 with 1 Axes>"
      ]
     },
     "metadata": {
      "needs_background": "light"
     },
     "output_type": "display_data"
    }
   ],
   "source": [
    "fig,ax = plt.subplots(figsize=(14,6))\n",
    "ax.set_title(\"Awards Count\")\n",
    "sns.histplot(data['awards_count'], binwidth=1, ax=ax);"
   ]
  },
  {
   "cell_type": "code",
   "execution_count": 23,
   "metadata": {
    "scrolled": false
   },
   "outputs": [
    {
     "data": {
      "image/png": "[encoded data removed]",
      "text/plain": [
       "<Figure size 1008x432 with 1 Axes>"
      ]
     },
     "metadata": {
      "needs_background": "light"
     },
     "output_type": "display_data"
    }
   ],
   "source": [
    "fig,ax = plt.subplots(figsize=(14,6))\n",
    "ax.set_title(\"Awards Count\")\n",
    "sns.histplot(data['awards_count'][data['awards_count']>10], binwidth=1, ax=ax);"
   ]
  },
  {
   "cell_type": "markdown",
   "metadata": {},
   "source": [
    "The Hunger Games is an outlier. I think this indicates that a particularly zealous user listed all of the awards won by this book, not that the Hunger Games is the most awarded book of all time."
   ]
  },
  {
   "cell_type": "code",
   "execution_count": 24,
   "metadata": {
    "scrolled": true
   },
   "outputs": [
    {
     "data": {
      "text/plain": [
       "41514    The Hunger Games\n",
       "Name: title, dtype: object"
      ]
     },
     "execution_count": 24,
     "metadata": {},
     "output_type": "execute_result"
    }
   ],
   "source": [
    "data['title'][data['awards_count']==40]"
   ]
  },
  {
   "cell_type": "code",
   "execution_count": 25,
   "metadata": {},
   "outputs": [
    {
     "data": {
      "text/plain": [
       "\"Locus Award Nominee for Best Young Adult Book (2009), Georgia Peach Book Award (2009), Buxtehuder Bulle (2009), Golden Duck Award for Young Adult (Hal Clement Award) (2009), Grand Prix de l'Imaginaire Nominee for Roman jeunesse Ã©tranger (2010) Books I Loved Best Yearly (BILBY) Awards for Older Readers (2012), West Australian Young Readers' Book Award (WAYRBA) for Older Readers (2010), Red House Children's Book Award for Older Readers & Overall (2010), South Carolina Book Award for Junior and Young Adult Book (2011), Charlotte Award (2010), Colorado Blue Spruce Young Adult Book Award (2010), Teen Buckeye Book Award (2009), Pennsylvania Young Readers' Choice Award for Young Adults (2010), Rhode Island Teen Book Award (2010), Dorothy Canfield Fisher Children's Book Award (2010), Evergreen Teen Book Award (2011), Soaring Eagle Book Award (2009), Milwaukee County Teen Book Award Nominee (2010), Sakura Medal for Middle School Book (2010), Michigan Library Association Thumbs Up! Award (2009), Florida Teens Read (2009), Deutscher Jugendliteraturpreis for Preis der Jugendjury (2010), Iowa High School Book Award (2011), New Mexico Land of Enchantment Award for Young Adult (2011), Eliot Rosewater Indiana High School Book Award (2010), The Inky Awards for Silver Inky (2009), California Young Readers Medal for Young Adult (2011), Lincoln Award (2011), Kinderboekwinkelprijs (2010), Missouri Truman Readers Award (2011), Cybils Award for Young Adult Fantasy & Science Fiction (2008), Literaturpreis der Jury der jungen Leser for Jugendbuch (2010), The Inky Awards Shortlist for Silver Inky (2009), Prix Et-lisez-moi (2011), Missouri Gateway Readers Award (2011), Oklahoma Sequoyah Award for High School and Intermediate (2011), Premio El Templo de las Mil Puertas for Mejor novela extranjera perteneciente a saga (2009), Rebecca Caudill Young Readers' Book Award (2011), LovelyBooks Leserpreis for Fantasy (2009), LovelyBooks Leserpreis for Bestes Cover/Umschlag (2009), Premi Protagonista Jove for Categoria 13-14 anys (2010)\""
      ]
     },
     "execution_count": 25,
     "metadata": {},
     "output_type": "execute_result"
    }
   ],
   "source": [
    "data[data['awards_count']==40]['awards'].iloc[0]"
   ]
  },
  {
   "cell_type": "markdown",
   "metadata": {},
   "source": [
    "### Page number"
   ]
  },
  {
   "cell_type": "code",
   "execution_count": 26,
   "metadata": {},
   "outputs": [
    {
     "data": {
      "image/png": "[encoded data removed]",
      "text/plain": [
       "<Figure size 1008x432 with 1 Axes>"
      ]
     },
     "metadata": {
      "needs_background": "light"
     },
     "output_type": "display_data"
    }
   ],
   "source": [
    "fig,ax = plt.subplots(figsize=(14,6))\n",
    "ax.set_title(\"Number of Pages\")\n",
    "sns.histplot(data['number_of_pages'], ax=ax);"
   ]
  },
  {
   "cell_type": "markdown",
   "metadata": {},
   "source": [
    "### Genre \n",
    "\n",
    "Here, we do some pre-processing to convert the genre feature into a set of numerical features."
   ]
  },
  {
   "cell_type": "code",
   "execution_count": 27,
   "metadata": {},
   "outputs": [
    {
     "name": "stdout",
     "output_type": "stream",
     "text": [
      "Genre example:\n"
     ]
    },
    {
     "data": {
      "text/plain": [
       "'Fantasy-Urban Fantasy 474, Fantasy 230, Fantasy-Paranormal 164, Mystery 101, Fiction 74, Fantasy-Supernatural 50, Paranormal-Ghosts 49, Paranormal-Vampires 48, Horror 30, Fantasy-Magic 24'"
      ]
     },
     "execution_count": 27,
     "metadata": {},
     "output_type": "execute_result"
    }
   ],
   "source": [
    "print(\"Genre example:\")\n",
    "data['genre_and_votes'][901]"
   ]
  },
  {
   "cell_type": "code",
   "execution_count": 28,
   "metadata": {},
   "outputs": [],
   "source": [
    "stage_1 = data['genre_and_votes'].str.split(',') # Split the string into a list, one entry per genre\n",
    "stage_2 = stage_1.explode().str.strip()          # \n",
    "stage_3 = stage_2.str.rsplit(' ', n=1, expand=True)\n",
    "stage_4 = stage_3.pivot(columns=0)[1].iloc[:,1:]\n",
    "stage_4 = stage_4.fillna(0).replace('1user',1)   # Clean up missing values and one odd aberation"
   ]
  },
  {
   "cell_type": "code",
   "execution_count": 29,
   "metadata": {},
   "outputs": [],
   "source": [
    "genre_columns = stage_4.columns"
   ]
  },
  {
   "cell_type": "code",
   "execution_count": 30,
   "metadata": {},
   "outputs": [],
   "source": [
    "data = pd.concat([data,stage_4],axis=1)"
   ]
  },
  {
   "cell_type": "code",
   "execution_count": 31,
   "metadata": {},
   "outputs": [
    {
     "data": {
      "text/html": [
       "<div>\n",
       "<style scoped>\n",
       "    .dataframe tbody tr th:only-of-type {\n",
       "        vertical-align: middle;\n",
       "    }\n",
       "\n",
       "    .dataframe tbody tr th {\n",
       "        vertical-align: top;\n",
       "    }\n",
       "\n",
       "    .dataframe thead th {\n",
       "        text-align: right;\n",
       "    }\n",
       "</style>\n",
       "<table border=\"1\" class=\"dataframe\">\n",
       "  <thead>\n",
       "    <tr style=\"text-align: right;\">\n",
       "      <th></th>\n",
       "      <th>id</th>\n",
       "      <th>title</th>\n",
       "      <th>link</th>\n",
       "      <th>series</th>\n",
       "      <th>cover_link</th>\n",
       "      <th>author</th>\n",
       "      <th>author_link</th>\n",
       "      <th>rating_count</th>\n",
       "      <th>review_count</th>\n",
       "      <th>average_rating</th>\n",
       "      <th>...</th>\n",
       "      <th>Young Adult</th>\n",
       "      <th>Young Adult-Coming Of Age</th>\n",
       "      <th>Young Adult-High School</th>\n",
       "      <th>Young Adult-Teen</th>\n",
       "      <th>Young Adult-Young Adult Contemporary</th>\n",
       "      <th>Young Adult-Young Adult Fantasy</th>\n",
       "      <th>Young Adult-Young Adult Historical Fiction</th>\n",
       "      <th>Young Adult-Young Adult Paranormal</th>\n",
       "      <th>Young Adult-Young Adult Romance</th>\n",
       "      <th>Young Adult-Young Adult Science Fiction</th>\n",
       "    </tr>\n",
       "  </thead>\n",
       "  <tbody>\n",
       "    <tr>\n",
       "      <th>0</th>\n",
       "      <td>630104</td>\n",
       "      <td>Inner Circle</td>\n",
       "      <td>https://www.goodreads.com//book/show/630104.In...</td>\n",
       "      <td>(Private #5)</td>\n",
       "      <td>https://i.gr-assets.com/images/S/compressed.ph...</td>\n",
       "      <td>Kate Brian, Julian Peploe</td>\n",
       "      <td>https://www.goodreads.com/author/show/94091.Ka...</td>\n",
       "      <td>7597</td>\n",
       "      <td>196</td>\n",
       "      <td>4.03</td>\n",
       "      <td>...</td>\n",
       "      <td>161</td>\n",
       "      <td>0</td>\n",
       "      <td>0</td>\n",
       "      <td>0</td>\n",
       "      <td>0</td>\n",
       "      <td>0</td>\n",
       "      <td>0</td>\n",
       "      <td>0</td>\n",
       "      <td>0</td>\n",
       "      <td>0</td>\n",
       "    </tr>\n",
       "    <tr>\n",
       "      <th>1</th>\n",
       "      <td>9487</td>\n",
       "      <td>A Time to Embrace</td>\n",
       "      <td>https://www.goodreads.com//book/show/9487.A_Ti...</td>\n",
       "      <td>(Timeless Love #2)</td>\n",
       "      <td>https://i.gr-assets.com/images/S/compressed.ph...</td>\n",
       "      <td>Karen Kingsbury</td>\n",
       "      <td>https://www.goodreads.com/author/show/3159984....</td>\n",
       "      <td>4179</td>\n",
       "      <td>177</td>\n",
       "      <td>4.35</td>\n",
       "      <td>...</td>\n",
       "      <td>0</td>\n",
       "      <td>0</td>\n",
       "      <td>0</td>\n",
       "      <td>0</td>\n",
       "      <td>0</td>\n",
       "      <td>0</td>\n",
       "      <td>0</td>\n",
       "      <td>0</td>\n",
       "      <td>0</td>\n",
       "      <td>0</td>\n",
       "    </tr>\n",
       "    <tr>\n",
       "      <th>2</th>\n",
       "      <td>6050894</td>\n",
       "      <td>Take Two</td>\n",
       "      <td>https://www.goodreads.com//book/show/6050894-t...</td>\n",
       "      <td>(Above the Line #2)</td>\n",
       "      <td>https://i.gr-assets.com/images/S/compressed.ph...</td>\n",
       "      <td>Karen Kingsbury</td>\n",
       "      <td>https://www.goodreads.com/author/show/3159984....</td>\n",
       "      <td>6288</td>\n",
       "      <td>218</td>\n",
       "      <td>4.23</td>\n",
       "      <td>...</td>\n",
       "      <td>0</td>\n",
       "      <td>0</td>\n",
       "      <td>0</td>\n",
       "      <td>0</td>\n",
       "      <td>0</td>\n",
       "      <td>0</td>\n",
       "      <td>0</td>\n",
       "      <td>0</td>\n",
       "      <td>0</td>\n",
       "      <td>0</td>\n",
       "    </tr>\n",
       "    <tr>\n",
       "      <th>3</th>\n",
       "      <td>39030</td>\n",
       "      <td>Reliquary</td>\n",
       "      <td>https://www.goodreads.com//book/show/39030.Rel...</td>\n",
       "      <td>(Pendergast #2)</td>\n",
       "      <td>https://i.gr-assets.com/images/S/compressed.ph...</td>\n",
       "      <td>Douglas Preston, Lincoln Child</td>\n",
       "      <td>https://www.goodreads.com/author/show/12577.Do...</td>\n",
       "      <td>38382</td>\n",
       "      <td>1424</td>\n",
       "      <td>4.01</td>\n",
       "      <td>...</td>\n",
       "      <td>0</td>\n",
       "      <td>0</td>\n",
       "      <td>0</td>\n",
       "      <td>0</td>\n",
       "      <td>0</td>\n",
       "      <td>0</td>\n",
       "      <td>0</td>\n",
       "      <td>0</td>\n",
       "      <td>0</td>\n",
       "      <td>0</td>\n",
       "    </tr>\n",
       "    <tr>\n",
       "      <th>4</th>\n",
       "      <td>998</td>\n",
       "      <td>The Millionaire Next Door: The Surprising Secr...</td>\n",
       "      <td>https://www.goodreads.com//book/show/998.The_M...</td>\n",
       "      <td>NaN</td>\n",
       "      <td>https://i.gr-assets.com/images/S/compressed.ph...</td>\n",
       "      <td>Thomas J. Stanley, William D. Danko</td>\n",
       "      <td>https://www.goodreads.com/author/show/659.Thom...</td>\n",
       "      <td>72168</td>\n",
       "      <td>3217</td>\n",
       "      <td>4.04</td>\n",
       "      <td>...</td>\n",
       "      <td>0</td>\n",
       "      <td>0</td>\n",
       "      <td>0</td>\n",
       "      <td>0</td>\n",
       "      <td>0</td>\n",
       "      <td>0</td>\n",
       "      <td>0</td>\n",
       "      <td>0</td>\n",
       "      <td>0</td>\n",
       "      <td>0</td>\n",
       "    </tr>\n",
       "  </tbody>\n",
       "</table>\n",
       "<p>5 rows × 904 columns</p>\n",
       "</div>"
      ],
      "text/plain": [
       "        id                                              title  \\\n",
       "0   630104                                       Inner Circle   \n",
       "1     9487                                  A Time to Embrace   \n",
       "2  6050894                                           Take Two   \n",
       "3    39030                                          Reliquary   \n",
       "4      998  The Millionaire Next Door: The Surprising Secr...   \n",
       "\n",
       "                                                link               series  \\\n",
       "0  https://www.goodreads.com//book/show/630104.In...         (Private #5)   \n",
       "1  https://www.goodreads.com//book/show/9487.A_Ti...   (Timeless Love #2)   \n",
       "2  https://www.goodreads.com//book/show/6050894-t...  (Above the Line #2)   \n",
       "3  https://www.goodreads.com//book/show/39030.Rel...      (Pendergast #2)   \n",
       "4  https://www.goodreads.com//book/show/998.The_M...                  NaN   \n",
       "\n",
       "                                          cover_link  \\\n",
       "0  https://i.gr-assets.com/images/S/compressed.ph...   \n",
       "1  https://i.gr-assets.com/images/S/compressed.ph...   \n",
       "2  https://i.gr-assets.com/images/S/compressed.ph...   \n",
       "3  https://i.gr-assets.com/images/S/compressed.ph...   \n",
       "4  https://i.gr-assets.com/images/S/compressed.ph...   \n",
       "\n",
       "                                author  \\\n",
       "0            Kate Brian, Julian Peploe   \n",
       "1                      Karen Kingsbury   \n",
       "2                      Karen Kingsbury   \n",
       "3       Douglas Preston, Lincoln Child   \n",
       "4  Thomas J. Stanley, William D. Danko   \n",
       "\n",
       "                                         author_link  rating_count  \\\n",
       "0  https://www.goodreads.com/author/show/94091.Ka...          7597   \n",
       "1  https://www.goodreads.com/author/show/3159984....          4179   \n",
       "2  https://www.goodreads.com/author/show/3159984....          6288   \n",
       "3  https://www.goodreads.com/author/show/12577.Do...         38382   \n",
       "4  https://www.goodreads.com/author/show/659.Thom...         72168   \n",
       "\n",
       "   review_count  average_rating  ...  Young Adult  Young Adult-Coming Of Age  \\\n",
       "0           196            4.03  ...          161                          0   \n",
       "1           177            4.35  ...            0                          0   \n",
       "2           218            4.23  ...            0                          0   \n",
       "3          1424            4.01  ...            0                          0   \n",
       "4          3217            4.04  ...            0                          0   \n",
       "\n",
       "   Young Adult-High School  Young Adult-Teen  \\\n",
       "0                        0                 0   \n",
       "1                        0                 0   \n",
       "2                        0                 0   \n",
       "3                        0                 0   \n",
       "4                        0                 0   \n",
       "\n",
       "   Young Adult-Young Adult Contemporary  Young Adult-Young Adult Fantasy  \\\n",
       "0                                     0                                0   \n",
       "1                                     0                                0   \n",
       "2                                     0                                0   \n",
       "3                                     0                                0   \n",
       "4                                     0                                0   \n",
       "\n",
       "  Young Adult-Young Adult Historical Fiction  \\\n",
       "0                                          0   \n",
       "1                                          0   \n",
       "2                                          0   \n",
       "3                                          0   \n",
       "4                                          0   \n",
       "\n",
       "  Young Adult-Young Adult Paranormal Young Adult-Young Adult Romance  \\\n",
       "0                                  0                               0   \n",
       "1                                  0                               0   \n",
       "2                                  0                               0   \n",
       "3                                  0                               0   \n",
       "4                                  0                               0   \n",
       "\n",
       "  Young Adult-Young Adult Science Fiction  \n",
       "0                                       0  \n",
       "1                                       0  \n",
       "2                                       0  \n",
       "3                                       0  \n",
       "4                                       0  \n",
       "\n",
       "[5 rows x 904 columns]"
      ]
     },
     "execution_count": 31,
     "metadata": {},
     "output_type": "execute_result"
    }
   ],
   "source": [
    "data.head()"
   ]
  },
  {
   "cell_type": "markdown",
   "metadata": {},
   "source": [
    "### Average Rating\n",
    "\n",
    "Our target variable, average rating, clearly fits a gaussian distribution centered on the number 4. This would make regression an easy task, but it poses difficulties if we wish to transfrom this into a binary classification problem between \"good\" and \"bad\" books."
   ]
  },
  {
   "cell_type": "code",
   "execution_count": 32,
   "metadata": {},
   "outputs": [
    {
     "data": {
      "image/png": "[encoded data removed]",
      "text/plain": [
       "<Figure size 1008x432 with 1 Axes>"
      ]
     },
     "metadata": {
      "needs_background": "light"
     },
     "output_type": "display_data"
    }
   ],
   "source": [
    "fig,ax = plt.subplots(figsize=(14,6))\n",
    "ax.set_title(\"Average Rating\")\n",
    "sns.histplot(data['average_rating'], ax=ax);"
   ]
  },
  {
   "cell_type": "markdown",
   "metadata": {},
   "source": [
    "## Classification features\n",
    "\n",
    "Choose feature space for classification task."
   ]
  },
  {
   "cell_type": "code",
   "execution_count": 33,
   "metadata": {},
   "outputs": [],
   "source": [
    "features = ['date_published_numeric','number_of_pages','awards_count'] #genre, publisher"
   ]
  },
  {
   "cell_type": "markdown",
   "metadata": {},
   "source": [
    "## Missing Values"
   ]
  },
  {
   "cell_type": "markdown",
   "metadata": {},
   "source": [
    "\"awards_count\" cannot have missing values; if a book has no awards listed, then it simply has awards_count = 0. Therefore, we do not consider this feature."
   ]
  },
  {
   "cell_type": "code",
   "execution_count": 34,
   "metadata": {},
   "outputs": [],
   "source": [
    "nan_features_check = ['date_published','number_of_pages','description','genre_and_votes','average_rating']"
   ]
  },
  {
   "cell_type": "code",
   "execution_count": 35,
   "metadata": {},
   "outputs": [
    {
     "data": {
      "text/plain": [
       "date_published     0.016475\n",
       "number_of_pages    0.044637\n",
       "description        0.049330\n",
       "genre_and_votes    0.054407\n",
       "average_rating     0.000000\n",
       "dtype: float64"
      ]
     },
     "execution_count": 35,
     "metadata": {},
     "output_type": "execute_result"
    }
   ],
   "source": [
    "# Percentage of each column that is NaN\n",
    "(data.isna().sum() / data.shape[0])[nan_features_check]"
   ]
  },
  {
   "cell_type": "code",
   "execution_count": 36,
   "metadata": {},
   "outputs": [
    {
     "name": "stdout",
     "output_type": "stream",
     "text": [
      "Percentage of samples with missing data: 0.12969597118718748\n"
     ]
    }
   ],
   "source": [
    "#subset = ['date_published','number_of_pages','average_rating','description','genre_and_votes']\n",
    "result = data[nan_features_check].isna().any(axis='columns').sum() / data[nan_features_check].shape[0]\n",
    "print(f\"Percentage of samples with missing data: {result}\")"
   ]
  },
  {
   "cell_type": "markdown",
   "metadata": {},
   "source": [
    "Each of these features is missing less than $\\leq5\\%$ of its values. In total, 13% of the dataset is missing one of these features. I feel comfortable dropping those data samples entirely."
   ]
  },
  {
   "cell_type": "code",
   "execution_count": 37,
   "metadata": {},
   "outputs": [
    {
     "data": {
      "text/plain": [
       "date_published     0.0\n",
       "number_of_pages    0.0\n",
       "description        0.0\n",
       "genre_and_votes    0.0\n",
       "average_rating     0.0\n",
       "dtype: float64"
      ]
     },
     "execution_count": 37,
     "metadata": {},
     "output_type": "execute_result"
    }
   ],
   "source": [
    "# Drop samples with missing values\n",
    "data = data.dropna(subset=nan_features_check)\n",
    "\n",
    "# Percentage of each column that is NaN\n",
    "(data.isna().sum() / data.shape[0])[nan_features_check]"
   ]
  },
  {
   "cell_type": "markdown",
   "metadata": {},
   "source": [
    "## Outliers\n",
    "\n",
    "### Consider Features Together:"
   ]
  },
  {
   "cell_type": "code",
   "execution_count": 38,
   "metadata": {},
   "outputs": [
    {
     "data": {
      "text/plain": [
       "['date_published_numeric', 'number_of_pages', 'awards_count']"
      ]
     },
     "execution_count": 38,
     "metadata": {},
     "output_type": "execute_result"
    }
   ],
   "source": [
    "features"
   ]
  },
  {
   "cell_type": "code",
   "execution_count": 39,
   "metadata": {},
   "outputs": [
    {
     "name": "stderr",
     "output_type": "stream",
     "text": [
      "/Library/Frameworks/Python.framework/Versions/3.8/lib/python3.8/site-packages/sklearn/base.py:439: UserWarning: X does not have valid feature names, but IsolationForest was fitted with feature names\n",
      "  warnings.warn(\n"
     ]
    },
    {
     "name": "stdout",
     "output_type": "stream",
     "text": [
      "Rows counted as outliers by\n",
      "One method: 3233\n",
      "Two methods: 1601\n",
      "Three methods: 127\n"
     ]
    }
   ],
   "source": [
    "# Local Outlier Factor\n",
    "cov = LocalOutlierFactor(n_neighbors=20, contamination=0.05)\n",
    "lof_outlier = cov.fit_predict( data[features] )\n",
    "\n",
    "# Robust Covariance, Mahalanobis distance\n",
    "cov = EllipticEnvelope(contamination=0.05)\n",
    "rc_outlier = cov.fit_predict( data[features] )\n",
    "\n",
    "# Isolation Forest\n",
    "cov = IsolationForest(n_estimators=100,  contamination=0.05)\n",
    "if_outlier = cov.fit_predict( data[features] )\n",
    "\n",
    "# Count up which rows have been counted as outliers and how many times\n",
    "all_outliers = (if_outlier==-1).astype(int) + (rc_outlier==-1).astype(int) + (lof_outlier==-1).astype(int)\n",
    "\n",
    "print(\"Rows counted as outliers by\")\n",
    "print(f\"One method: {(all_outliers == 1).sum()}\")\n",
    "print(f\"Two methods: {(all_outliers == 2).sum()}\")\n",
    "print(f\"Three methods: {(all_outliers == 3).sum()}\")"
   ]
  },
  {
   "cell_type": "code",
   "execution_count": 40,
   "metadata": {},
   "outputs": [
    {
     "name": "stdout",
     "output_type": "stream",
     "text": [
      "Outliers:\n"
     ]
    },
    {
     "data": {
      "text/html": [
       "<div>\n",
       "<style scoped>\n",
       "    .dataframe tbody tr th:only-of-type {\n",
       "        vertical-align: middle;\n",
       "    }\n",
       "\n",
       "    .dataframe tbody tr th {\n",
       "        vertical-align: top;\n",
       "    }\n",
       "\n",
       "    .dataframe thead th {\n",
       "        text-align: right;\n",
       "    }\n",
       "</style>\n",
       "<table border=\"1\" class=\"dataframe\">\n",
       "  <thead>\n",
       "    <tr style=\"text-align: right;\">\n",
       "      <th></th>\n",
       "      <th>title</th>\n",
       "      <th>date_published_numeric</th>\n",
       "      <th>number_of_pages</th>\n",
       "      <th>awards_count</th>\n",
       "    </tr>\n",
       "  </thead>\n",
       "  <tbody>\n",
       "    <tr>\n",
       "      <th>255</th>\n",
       "      <td>The I Ching or Book of Changes</td>\n",
       "      <td>-310250</td>\n",
       "      <td>740.0</td>\n",
       "      <td>0</td>\n",
       "    </tr>\n",
       "    <tr>\n",
       "      <th>262</th>\n",
       "      <td>Beggars in Spain</td>\n",
       "      <td>727476</td>\n",
       "      <td>400.0</td>\n",
       "      <td>5</td>\n",
       "    </tr>\n",
       "    <tr>\n",
       "      <th>265</th>\n",
       "      <td>The Message Remix (Bible in Contemporary Langu...</td>\n",
       "      <td>728965</td>\n",
       "      <td>2272.0</td>\n",
       "      <td>1</td>\n",
       "    </tr>\n",
       "    <tr>\n",
       "      <th>575</th>\n",
       "      <td>The New American Bible</td>\n",
       "      <td>693135</td>\n",
       "      <td>1394.0</td>\n",
       "      <td>0</td>\n",
       "    </tr>\n",
       "    <tr>\n",
       "      <th>771</th>\n",
       "      <td>The Story of Civilization</td>\n",
       "      <td>720875</td>\n",
       "      <td>14777.0</td>\n",
       "      <td>0</td>\n",
       "    </tr>\n",
       "    <tr>\n",
       "      <th>...</th>\n",
       "      <td>...</td>\n",
       "      <td>...</td>\n",
       "      <td>...</td>\n",
       "      <td>...</td>\n",
       "    </tr>\n",
       "    <tr>\n",
       "      <th>49801</th>\n",
       "      <td>The Complete Malazan Book of the Fallen</td>\n",
       "      <td>735138</td>\n",
       "      <td>8258.0</td>\n",
       "      <td>0</td>\n",
       "    </tr>\n",
       "    <tr>\n",
       "      <th>50533</th>\n",
       "      <td>The Sword of Truth, Boxed Set I: Wizard's Firs...</td>\n",
       "      <td>729589</td>\n",
       "      <td>2480.0</td>\n",
       "      <td>0</td>\n",
       "    </tr>\n",
       "    <tr>\n",
       "      <th>51300</th>\n",
       "      <td>Foxe's Book of Martyrs</td>\n",
       "      <td>570495</td>\n",
       "      <td>416.0</td>\n",
       "      <td>0</td>\n",
       "    </tr>\n",
       "    <tr>\n",
       "      <th>51460</th>\n",
       "      <td>Gun, With Occasional Music</td>\n",
       "      <td>727869</td>\n",
       "      <td>271.0</td>\n",
       "      <td>5</td>\n",
       "    </tr>\n",
       "    <tr>\n",
       "      <th>51926</th>\n",
       "      <td>The Urantia Book</td>\n",
       "      <td>713575</td>\n",
       "      <td>2097.0</td>\n",
       "      <td>0</td>\n",
       "    </tr>\n",
       "  </tbody>\n",
       "</table>\n",
       "<p>127 rows × 4 columns</p>\n",
       "</div>"
      ],
      "text/plain": [
       "                                                   title  \\\n",
       "255                       The I Ching or Book of Changes   \n",
       "262                                     Beggars in Spain   \n",
       "265    The Message Remix (Bible in Contemporary Langu...   \n",
       "575                               The New American Bible   \n",
       "771                            The Story of Civilization   \n",
       "...                                                  ...   \n",
       "49801            The Complete Malazan Book of the Fallen   \n",
       "50533  The Sword of Truth, Boxed Set I: Wizard's Firs...   \n",
       "51300                             Foxe's Book of Martyrs   \n",
       "51460                         Gun, With Occasional Music   \n",
       "51926                                   The Urantia Book   \n",
       "\n",
       "       date_published_numeric  number_of_pages  awards_count  \n",
       "255                   -310250            740.0             0  \n",
       "262                    727476            400.0             5  \n",
       "265                    728965           2272.0             1  \n",
       "575                    693135           1394.0             0  \n",
       "771                    720875          14777.0             0  \n",
       "...                       ...              ...           ...  \n",
       "49801                  735138           8258.0             0  \n",
       "50533                  729589           2480.0             0  \n",
       "51300                  570495            416.0             0  \n",
       "51460                  727869            271.0             5  \n",
       "51926                  713575           2097.0             0  \n",
       "\n",
       "[127 rows x 4 columns]"
      ]
     },
     "execution_count": 40,
     "metadata": {},
     "output_type": "execute_result"
    }
   ],
   "source": [
    "print(\"Outliers:\")\n",
    "data[['title']+features][all_outliers == 3]"
   ]
  },
  {
   "cell_type": "code",
   "execution_count": 41,
   "metadata": {},
   "outputs": [
    {
     "name": "stdout",
     "output_type": "stream",
     "text": [
      "Whole dataset statistics:\n"
     ]
    },
    {
     "data": {
      "text/html": [
       "<div>\n",
       "<style scoped>\n",
       "    .dataframe tbody tr th:only-of-type {\n",
       "        vertical-align: middle;\n",
       "    }\n",
       "\n",
       "    .dataframe tbody tr th {\n",
       "        vertical-align: top;\n",
       "    }\n",
       "\n",
       "    .dataframe thead th {\n",
       "        text-align: right;\n",
       "    }\n",
       "</style>\n",
       "<table border=\"1\" class=\"dataframe\">\n",
       "  <thead>\n",
       "    <tr style=\"text-align: right;\">\n",
       "      <th></th>\n",
       "      <th>date_published_numeric</th>\n",
       "      <th>number_of_pages</th>\n",
       "      <th>awards_count</th>\n",
       "    </tr>\n",
       "  </thead>\n",
       "  <tbody>\n",
       "    <tr>\n",
       "      <th>count</th>\n",
       "      <td>45429.000000</td>\n",
       "      <td>45429.000000</td>\n",
       "      <td>45429.000000</td>\n",
       "    </tr>\n",
       "    <tr>\n",
       "      <th>mean</th>\n",
       "      <td>725437.590086</td>\n",
       "      <td>334.520813</td>\n",
       "      <td>0.475313</td>\n",
       "    </tr>\n",
       "    <tr>\n",
       "      <th>std</th>\n",
       "      <td>45645.606387</td>\n",
       "      <td>251.821659</td>\n",
       "      <td>1.306101</td>\n",
       "    </tr>\n",
       "    <tr>\n",
       "      <th>min</th>\n",
       "      <td>-657000.000000</td>\n",
       "      <td>0.000000</td>\n",
       "      <td>0.000000</td>\n",
       "    </tr>\n",
       "    <tr>\n",
       "      <th>25%</th>\n",
       "      <td>727445.000000</td>\n",
       "      <td>221.000000</td>\n",
       "      <td>0.000000</td>\n",
       "    </tr>\n",
       "    <tr>\n",
       "      <th>50%</th>\n",
       "      <td>732555.000000</td>\n",
       "      <td>309.000000</td>\n",
       "      <td>0.000000</td>\n",
       "    </tr>\n",
       "    <tr>\n",
       "      <th>75%</th>\n",
       "      <td>734599.000000</td>\n",
       "      <td>398.000000</td>\n",
       "      <td>0.000000</td>\n",
       "    </tr>\n",
       "    <tr>\n",
       "      <th>max</th>\n",
       "      <td>737740.000000</td>\n",
       "      <td>14777.000000</td>\n",
       "      <td>40.000000</td>\n",
       "    </tr>\n",
       "  </tbody>\n",
       "</table>\n",
       "</div>"
      ],
      "text/plain": [
       "       date_published_numeric  number_of_pages  awards_count\n",
       "count            45429.000000     45429.000000  45429.000000\n",
       "mean            725437.590086       334.520813      0.475313\n",
       "std              45645.606387       251.821659      1.306101\n",
       "min            -657000.000000         0.000000      0.000000\n",
       "25%             727445.000000       221.000000      0.000000\n",
       "50%             732555.000000       309.000000      0.000000\n",
       "75%             734599.000000       398.000000      0.000000\n",
       "max             737740.000000     14777.000000     40.000000"
      ]
     },
     "execution_count": 41,
     "metadata": {},
     "output_type": "execute_result"
    }
   ],
   "source": [
    "print(\"Whole dataset statistics:\")\n",
    "data[features].describe()"
   ]
  },
  {
   "cell_type": "code",
   "execution_count": 42,
   "metadata": {},
   "outputs": [
    {
     "name": "stdout",
     "output_type": "stream",
     "text": [
      "Outlier Statistics:\n"
     ]
    },
    {
     "data": {
      "text/html": [
       "<div>\n",
       "<style scoped>\n",
       "    .dataframe tbody tr th:only-of-type {\n",
       "        vertical-align: middle;\n",
       "    }\n",
       "\n",
       "    .dataframe tbody tr th {\n",
       "        vertical-align: top;\n",
       "    }\n",
       "\n",
       "    .dataframe thead th {\n",
       "        text-align: right;\n",
       "    }\n",
       "</style>\n",
       "<table border=\"1\" class=\"dataframe\">\n",
       "  <thead>\n",
       "    <tr style=\"text-align: right;\">\n",
       "      <th></th>\n",
       "      <th>date_published_numeric</th>\n",
       "      <th>number_of_pages</th>\n",
       "      <th>awards_count</th>\n",
       "    </tr>\n",
       "  </thead>\n",
       "  <tbody>\n",
       "    <tr>\n",
       "      <th>count</th>\n",
       "      <td>127.000000</td>\n",
       "      <td>127.000000</td>\n",
       "      <td>127.000000</td>\n",
       "    </tr>\n",
       "    <tr>\n",
       "      <th>mean</th>\n",
       "      <td>582509.464567</td>\n",
       "      <td>1795.787402</td>\n",
       "      <td>3.228346</td>\n",
       "    </tr>\n",
       "    <tr>\n",
       "      <th>std</th>\n",
       "      <td>337430.475398</td>\n",
       "      <td>2331.221022</td>\n",
       "      <td>5.998927</td>\n",
       "    </tr>\n",
       "    <tr>\n",
       "      <th>min</th>\n",
       "      <td>-657000.000000</td>\n",
       "      <td>30.000000</td>\n",
       "      <td>0.000000</td>\n",
       "    </tr>\n",
       "    <tr>\n",
       "      <th>25%</th>\n",
       "      <td>692952.500000</td>\n",
       "      <td>299.000000</td>\n",
       "      <td>0.000000</td>\n",
       "    </tr>\n",
       "    <tr>\n",
       "      <th>50%</th>\n",
       "      <td>722029.000000</td>\n",
       "      <td>776.000000</td>\n",
       "      <td>0.000000</td>\n",
       "    </tr>\n",
       "    <tr>\n",
       "      <th>75%</th>\n",
       "      <td>730000.000000</td>\n",
       "      <td>2456.000000</td>\n",
       "      <td>5.000000</td>\n",
       "    </tr>\n",
       "    <tr>\n",
       "      <th>max</th>\n",
       "      <td>736313.000000</td>\n",
       "      <td>14777.000000</td>\n",
       "      <td>40.000000</td>\n",
       "    </tr>\n",
       "  </tbody>\n",
       "</table>\n",
       "</div>"
      ],
      "text/plain": [
       "       date_published_numeric  number_of_pages  awards_count\n",
       "count              127.000000       127.000000    127.000000\n",
       "mean            582509.464567      1795.787402      3.228346\n",
       "std             337430.475398      2331.221022      5.998927\n",
       "min            -657000.000000        30.000000      0.000000\n",
       "25%             692952.500000       299.000000      0.000000\n",
       "50%             722029.000000       776.000000      0.000000\n",
       "75%             730000.000000      2456.000000      5.000000\n",
       "max             736313.000000     14777.000000     40.000000"
      ]
     },
     "execution_count": 42,
     "metadata": {},
     "output_type": "execute_result"
    }
   ],
   "source": [
    "print(\"Outlier Statistics:\")\n",
    "data[['title']+features][all_outliers == 3].describe()"
   ]
  },
  {
   "cell_type": "markdown",
   "metadata": {},
   "source": [
    "The comparing the means of the outliers and the whole dataset demonstrates what kinds of outliers are being detected. The 'date_published_numeric' outliers are lower on average, while the 'number_of_pages' and 'awards_count' outliers are higher. This makes sense; it is very rare for a book to be 1800 pages long, and it is relatively uncommon for a book to be published begore year zero."
   ]
  },
  {
   "cell_type": "code",
   "execution_count": 43,
   "metadata": {},
   "outputs": [],
   "source": [
    "# Remove all datapoints that have been designated outliers by at least two methods\n",
    "data = data.loc[np.invert(all_outliers >= 2),:]"
   ]
  },
  {
   "cell_type": "markdown",
   "metadata": {},
   "source": [
    "### Consider Features Separately"
   ]
  },
  {
   "cell_type": "code",
   "execution_count": 44,
   "metadata": {},
   "outputs": [
    {
     "name": "stderr",
     "output_type": "stream",
     "text": [
      "/Library/Frameworks/Python.framework/Versions/3.8/lib/python3.8/site-packages/sklearn/base.py:439: UserWarning: X does not have valid feature names, but IsolationForest was fitted with feature names\n",
      "  warnings.warn(\n"
     ]
    },
    {
     "name": "stdout",
     "output_type": "stream",
     "text": [
      "Searching for outliers in: date_published_numeric\n",
      "Number of outliers found: 166\n"
     ]
    },
    {
     "name": "stderr",
     "output_type": "stream",
     "text": [
      "/Library/Frameworks/Python.framework/Versions/3.8/lib/python3.8/site-packages/sklearn/base.py:439: UserWarning: X does not have valid feature names, but IsolationForest was fitted with feature names\n",
      "  warnings.warn(\n"
     ]
    },
    {
     "name": "stdout",
     "output_type": "stream",
     "text": [
      "Searching for outliers in: number_of_pages\n",
      "Number of outliers found: 841\n"
     ]
    },
    {
     "name": "stderr",
     "output_type": "stream",
     "text": [
      "/Library/Frameworks/Python.framework/Versions/3.8/lib/python3.8/site-packages/sklearn/base.py:439: UserWarning: X does not have valid feature names, but IsolationForest was fitted with feature names\n",
      "  warnings.warn(\n"
     ]
    },
    {
     "name": "stdout",
     "output_type": "stream",
     "text": [
      "Searching for outliers in: awards_count\n",
      "Number of outliers found: 0\n"
     ]
    }
   ],
   "source": [
    "for f in features:\n",
    "    # Local Outlier Factor\n",
    "    cov = LocalOutlierFactor(n_neighbors=20, contamination=0.05)\n",
    "    lof_outlier = cov.fit_predict( data[[f]] )\n",
    "\n",
    "    # Robust Covariance, Mahalanobis distance\n",
    "    cov = EllipticEnvelope(contamination=0.05, support_fraction=0.9)\n",
    "    rc_outlier = cov.fit_predict( data[[f]] )\n",
    "\n",
    "    # Isolation Forest\n",
    "    cov = IsolationForest(n_estimators=100,  contamination=0.05)\n",
    "    if_outlier = cov.fit_predict( data[[f]] )\n",
    "\n",
    "    # Count up which rows have been counted as outliers and how many times\n",
    "    all_outliers = (if_outlier==-1).astype(int) + (rc_outlier==-1).astype(int) + (lof_outlier==-1).astype(int)\n",
    "    \n",
    "    print(f\"Searching for outliers in: {f}\")\n",
    "    print(f\"Number of outliers found: {(all_outliers == 3).sum()}\")\n",
    "    \n",
    "    # Remove all datapoints that have been designated outliers by at least two methods\n",
    "    data = data.loc[np.invert(all_outliers == 3),:]"
   ]
  },
  {
   "cell_type": "code",
   "execution_count": 45,
   "metadata": {},
   "outputs": [
    {
     "data": {
      "text/plain": [
       "(42694, 904)"
      ]
     },
     "execution_count": 45,
     "metadata": {},
     "output_type": "execute_result"
    }
   ],
   "source": [
    "data.shape"
   ]
  },
  {
   "cell_type": "markdown",
   "metadata": {},
   "source": [
    "We have dropped from about 52000 rows to 42000 rows, losing about a fifth of our data."
   ]
  },
  {
   "cell_type": "markdown",
   "metadata": {},
   "source": [
    "Below, you can see that the outlier detection process naturally removed many of the worst offenders."
   ]
  },
  {
   "cell_type": "code",
   "execution_count": 46,
   "metadata": {},
   "outputs": [
    {
     "data": {
      "image/png": "[encoded data removed]",
      "text/plain": [
       "<Figure size 1008x432 with 1 Axes>"
      ]
     },
     "metadata": {
      "needs_background": "light"
     },
     "output_type": "display_data"
    }
   ],
   "source": [
    "fig,ax = plt.subplots(figsize=(14,6))\n",
    "ax.set_title(\"Publishing Date Frequency\")\n",
    "sns.histplot(data['date_published_numeric']/365, ax=ax);"
   ]
  },
  {
   "cell_type": "code",
   "execution_count": 47,
   "metadata": {},
   "outputs": [
    {
     "data": {
      "image/png": "[encoded data removed]",
      "text/plain": [
       "<Figure size 1008x432 with 1 Axes>"
      ]
     },
     "metadata": {
      "needs_background": "light"
     },
     "output_type": "display_data"
    }
   ],
   "source": [
    "fig,ax = plt.subplots(figsize=(14,6))\n",
    "ax.set_title(\"Number of Pages\")\n",
    "sns.histplot(data['number_of_pages'], ax=ax);"
   ]
  },
  {
   "cell_type": "code",
   "execution_count": null,
   "metadata": {},
   "outputs": [],
   "source": []
  },
  {
   "cell_type": "code",
   "execution_count": null,
   "metadata": {},
   "outputs": [],
   "source": []
  },
  {
   "cell_type": "markdown",
   "metadata": {},
   "source": [
    "## Classification features\n",
    "\n",
    "Choose feature space for classification task."
   ]
  },
  {
   "cell_type": "code",
   "execution_count": 175,
   "metadata": {},
   "outputs": [
    {
     "data": {
      "text/html": [
       "<div>\n",
       "<style scoped>\n",
       "    .dataframe tbody tr th:only-of-type {\n",
       "        vertical-align: middle;\n",
       "    }\n",
       "\n",
       "    .dataframe tbody tr th {\n",
       "        vertical-align: top;\n",
       "    }\n",
       "\n",
       "    .dataframe thead th {\n",
       "        text-align: right;\n",
       "    }\n",
       "</style>\n",
       "<table border=\"1\" class=\"dataframe\">\n",
       "  <thead>\n",
       "    <tr style=\"text-align: right;\">\n",
       "      <th></th>\n",
       "      <th>date_published_numeric</th>\n",
       "      <th>number_of_pages</th>\n",
       "      <th>awards_count</th>\n",
       "    </tr>\n",
       "  </thead>\n",
       "  <tbody>\n",
       "    <tr>\n",
       "      <th>0</th>\n",
       "      <td>732556</td>\n",
       "      <td>220.0</td>\n",
       "      <td>0</td>\n",
       "    </tr>\n",
       "    <tr>\n",
       "      <th>1</th>\n",
       "      <td>732492</td>\n",
       "      <td>400.0</td>\n",
       "      <td>0</td>\n",
       "    </tr>\n",
       "    <tr>\n",
       "      <th>2</th>\n",
       "      <td>733286</td>\n",
       "      <td>320.0</td>\n",
       "      <td>0</td>\n",
       "    </tr>\n",
       "    <tr>\n",
       "      <th>4</th>\n",
       "      <td>728476</td>\n",
       "      <td>258.0</td>\n",
       "      <td>1</td>\n",
       "    </tr>\n",
       "    <tr>\n",
       "      <th>5</th>\n",
       "      <td>717650</td>\n",
       "      <td>252.0</td>\n",
       "      <td>0</td>\n",
       "    </tr>\n",
       "    <tr>\n",
       "      <th>...</th>\n",
       "      <td>...</td>\n",
       "      <td>...</td>\n",
       "      <td>...</td>\n",
       "    </tr>\n",
       "    <tr>\n",
       "      <th>52194</th>\n",
       "      <td>732555</td>\n",
       "      <td>312.0</td>\n",
       "      <td>0</td>\n",
       "    </tr>\n",
       "    <tr>\n",
       "      <th>52195</th>\n",
       "      <td>735208</td>\n",
       "      <td>208.0</td>\n",
       "      <td>2</td>\n",
       "    </tr>\n",
       "    <tr>\n",
       "      <th>52196</th>\n",
       "      <td>715765</td>\n",
       "      <td>264.0</td>\n",
       "      <td>2</td>\n",
       "    </tr>\n",
       "    <tr>\n",
       "      <th>52197</th>\n",
       "      <td>732669</td>\n",
       "      <td>240.0</td>\n",
       "      <td>0</td>\n",
       "    </tr>\n",
       "    <tr>\n",
       "      <th>52198</th>\n",
       "      <td>733286</td>\n",
       "      <td>413.0</td>\n",
       "      <td>0</td>\n",
       "    </tr>\n",
       "  </tbody>\n",
       "</table>\n",
       "<p>42694 rows × 3 columns</p>\n",
       "</div>"
      ],
      "text/plain": [
       "       date_published_numeric  number_of_pages  awards_count\n",
       "0                      732556            220.0             0\n",
       "1                      732492            400.0             0\n",
       "2                      733286            320.0             0\n",
       "4                      728476            258.0             1\n",
       "5                      717650            252.0             0\n",
       "...                       ...              ...           ...\n",
       "52194                  732555            312.0             0\n",
       "52195                  735208            208.0             2\n",
       "52196                  715765            264.0             2\n",
       "52197                  732669            240.0             0\n",
       "52198                  733286            413.0             0\n",
       "\n",
       "[42694 rows x 3 columns]"
      ]
     },
     "execution_count": 175,
     "metadata": {},
     "output_type": "execute_result"
    }
   ],
   "source": [
    "feature_space = data[features]\n",
    "feature_space"
   ]
  },
  {
   "cell_type": "markdown",
   "metadata": {},
   "source": [
    "## Make Target Classes"
   ]
  },
  {
   "cell_type": "code",
   "execution_count": 49,
   "metadata": {},
   "outputs": [],
   "source": [
    "# High=1, Low=0\n",
    "target = pd.DataFrame( np.where(data['average_rating']>3.5, 1, 0) )"
   ]
  },
  {
   "cell_type": "code",
   "execution_count": 50,
   "metadata": {},
   "outputs": [
    {
     "name": "stdout",
     "output_type": "stream",
     "text": [
      "Class Imbalance of Rating target:\n"
     ]
    },
    {
     "data": {
      "text/plain": [
       "1    40390\n",
       "0     2304\n",
       "dtype: int64"
      ]
     },
     "execution_count": 50,
     "metadata": {},
     "output_type": "execute_result"
    }
   ],
   "source": [
    "print(f'Class Imbalance of Rating target:' )\n",
    "target.value_counts()"
   ]
  },
  {
   "cell_type": "markdown",
   "metadata": {},
   "source": [
    "## Dimensionality Reduction\n",
    "\n",
    "There are 871 distinct genre features. Can we use clustering/dimensionality reduction to find the most important genres?"
   ]
  },
  {
   "cell_type": "code",
   "execution_count": 166,
   "metadata": {},
   "outputs": [],
   "source": [
    "def dim_plot(data, color):\n",
    "    # Visualize first three components\n",
    "    fig = plt.figure(figsize=(10, 7))\n",
    "    ax = fig.add_subplot(111, projection='3d')\n",
    "\n",
    "    x, y, z = data[:, 0], data[:, 1], data[:, 2]\n",
    "    ax.scatter(x, y, z, c=color, s=10, alpha=0.5)\n",
    "\n",
    "    ax.set_xlabel('Component 1')\n",
    "    ax.set_ylabel('Component 2')\n",
    "    ax.set_zlabel('Component 3')\n",
    "    ax.set_title('PCA - First 3 Components')\n",
    "\n",
    "    plt.show()"
   ]
  },
  {
   "cell_type": "code",
   "execution_count": 167,
   "metadata": {},
   "outputs": [],
   "source": [
    "n_components = 200"
   ]
  },
  {
   "cell_type": "code",
   "execution_count": 168,
   "metadata": {},
   "outputs": [],
   "source": [
    "# Perform PCA\n",
    "pca = PCA(n_components=n_components)\n",
    "pca_result = pca.fit_transform(data[genre_columns])"
   ]
  },
  {
   "cell_type": "code",
   "execution_count": 169,
   "metadata": {},
   "outputs": [
    {
     "name": "stdout",
     "output_type": "stream",
     "text": [
      "Variance explained by each component:\n",
      "Component 1: 37.77% (cumulative: 37.77%)\n",
      "Component 2: 25.41% (cumulative: 63.18%)\n",
      "Component 3: 5.80% (cumulative: 68.98%)\n",
      "Component 4: 4.80% (cumulative: 73.78%)\n",
      "Component 5: 3.90% (cumulative: 77.68%)\n",
      "Component 6: 2.90% (cumulative: 80.58%)\n",
      "Component 7: 2.31% (cumulative: 82.88%)\n",
      "Component 8: 2.01% (cumulative: 84.89%)\n",
      "Component 9: 1.79% (cumulative: 86.68%)\n",
      "Component 10: 1.43% (cumulative: 88.11%)\n",
      "Component 11: 1.11% (cumulative: 89.22%)\n",
      "Component 12: 1.04% (cumulative: 90.26%)\n",
      "Component 13: 0.82% (cumulative: 91.08%)\n",
      "Component 14: 0.77% (cumulative: 91.86%)\n",
      "Component 15: 0.62% (cumulative: 92.47%)\n",
      "Component 16: 0.58% (cumulative: 93.05%)\n",
      "Component 17: 0.46% (cumulative: 93.51%)\n",
      "Component 18: 0.42% (cumulative: 93.93%)\n",
      "Component 19: 0.37% (cumulative: 94.29%)\n"
     ]
    }
   ],
   "source": [
    "# Display variance explained by each component\n",
    "explained_variance_ratio = pca.explained_variance_ratio_\n",
    "cumulative_explained_variance = np.cumsum(explained_variance_ratio)\n",
    "\n",
    "print(\"Variance explained by each component:\")\n",
    "for i, (evr, cev) in enumerate(zip(explained_variance_ratio, cumulative_explained_variance), start=1):\n",
    "    if i < 20:\n",
    "        print(f\"Component {i}: {evr*100:.2f}% (cumulative: {cev*100:.2f}%)\")"
   ]
  },
  {
   "cell_type": "code",
   "execution_count": 170,
   "metadata": {},
   "outputs": [
    {
     "data": {
      "image/png": "[encoded data removed]",
      "text/plain": [
       "<Figure size 720x504 with 1 Axes>"
      ]
     },
     "metadata": {
      "needs_background": "light"
     },
     "output_type": "display_data"
    }
   ],
   "source": [
    "dim_plot(pca_result[:,:3], target.to_numpy().flatten())"
   ]
  },
  {
   "cell_type": "code",
   "execution_count": 56,
   "metadata": {},
   "outputs": [],
   "source": [
    "#pca = SparsePCA(n_components=20)\n",
    "#pca_result = pca.fit_transform(data[genre_columns])"
   ]
  },
  {
   "cell_type": "code",
   "execution_count": 57,
   "metadata": {},
   "outputs": [],
   "source": [
    "# Display variance explained by each component\n",
    "# explained_variance_ratio = pca.explained_variance_ratio_\n",
    "# cumulative_explained_variance = np.cumsum(explained_variance_ratio)\n",
    "\n",
    "# print(\"Variance explained by each component:\")\n",
    "# for i, (evr, cev) in enumerate(zip(explained_variance_ratio, cumulative_explained_variance), start=1):\n",
    "#     if i < 10:\n",
    "#         print(f\"Component {i}: {evr*100:.2f}% (cumulative: {cev*100:.2f}%)\")"
   ]
  },
  {
   "cell_type": "markdown",
   "metadata": {},
   "source": [
    "### UMAP"
   ]
  },
  {
   "cell_type": "code",
   "execution_count": 171,
   "metadata": {},
   "outputs": [
    {
     "data": {
      "text/html": [
       "<style>#sk-container-id-2 {color: black;background-color: white;}#sk-container-id-2 pre{padding: 0;}#sk-container-id-2 div.sk-toggleable {background-color: white;}#sk-container-id-2 label.sk-toggleable__label {cursor: pointer;display: block;width: 100%;margin-bottom: 0;padding: 0.3em;box-sizing: border-box;text-align: center;}#sk-container-id-2 label.sk-toggleable__label-arrow:before {content: \"▸\";float: left;margin-right: 0.25em;color: #696969;}#sk-container-id-2 label.sk-toggleable__label-arrow:hover:before {color: black;}#sk-container-id-2 div.sk-estimator:hover label.sk-toggleable__label-arrow:before {color: black;}#sk-container-id-2 div.sk-toggleable__content {max-height: 0;max-width: 0;overflow: hidden;text-align: left;background-color: #f0f8ff;}#sk-container-id-2 div.sk-toggleable__content pre {margin: 0.2em;color: black;border-radius: 0.25em;background-color: #f0f8ff;}#sk-container-id-2 input.sk-toggleable__control:checked~div.sk-toggleable__content {max-height: 200px;max-width: 100%;overflow: auto;}#sk-container-id-2 input.sk-toggleable__control:checked~label.sk-toggleable__label-arrow:before {content: \"▾\";}#sk-container-id-2 div.sk-estimator input.sk-toggleable__control:checked~label.sk-toggleable__label {background-color: #d4ebff;}#sk-container-id-2 div.sk-label input.sk-toggleable__control:checked~label.sk-toggleable__label {background-color: #d4ebff;}#sk-container-id-2 input.sk-hidden--visually {border: 0;clip: rect(1px 1px 1px 1px);clip: rect(1px, 1px, 1px, 1px);height: 1px;margin: -1px;overflow: hidden;padding: 0;position: absolute;width: 1px;}#sk-container-id-2 div.sk-estimator {font-family: monospace;background-color: #f0f8ff;border: 1px dotted black;border-radius: 0.25em;box-sizing: border-box;margin-bottom: 0.5em;}#sk-container-id-2 div.sk-estimator:hover {background-color: #d4ebff;}#sk-container-id-2 div.sk-parallel-item::after {content: \"\";width: 100%;border-bottom: 1px solid gray;flex-grow: 1;}#sk-container-id-2 div.sk-label:hover label.sk-toggleable__label {background-color: #d4ebff;}#sk-container-id-2 div.sk-serial::before {content: \"\";position: absolute;border-left: 1px solid gray;box-sizing: border-box;top: 0;bottom: 0;left: 50%;z-index: 0;}#sk-container-id-2 div.sk-serial {display: flex;flex-direction: column;align-items: center;background-color: white;padding-right: 0.2em;padding-left: 0.2em;position: relative;}#sk-container-id-2 div.sk-item {position: relative;z-index: 1;}#sk-container-id-2 div.sk-parallel {display: flex;align-items: stretch;justify-content: center;background-color: white;position: relative;}#sk-container-id-2 div.sk-item::before, #sk-container-id-2 div.sk-parallel-item::before {content: \"\";position: absolute;border-left: 1px solid gray;box-sizing: border-box;top: 0;bottom: 0;left: 50%;z-index: -1;}#sk-container-id-2 div.sk-parallel-item {display: flex;flex-direction: column;z-index: 1;position: relative;background-color: white;}#sk-container-id-2 div.sk-parallel-item:first-child::after {align-self: flex-end;width: 50%;}#sk-container-id-2 div.sk-parallel-item:last-child::after {align-self: flex-start;width: 50%;}#sk-container-id-2 div.sk-parallel-item:only-child::after {width: 0;}#sk-container-id-2 div.sk-dashed-wrapped {border: 1px dashed gray;margin: 0 0.4em 0.5em 0.4em;box-sizing: border-box;padding-bottom: 0.4em;background-color: white;}#sk-container-id-2 div.sk-label label {font-family: monospace;font-weight: bold;display: inline-block;line-height: 1.2em;}#sk-container-id-2 div.sk-label-container {text-align: center;}#sk-container-id-2 div.sk-container {/* jupyter's `normalize.less` sets `[hidden] { display: none; }` but bootstrap.min.css set `[hidden] { display: none !important; }` so we also need the `!important` here to be able to override the default hidden behavior on the sphinx rendered scikit-learn.org. See: https://github.com/scikit-learn/scikit-learn/issues/21755 */display: inline-block !important;position: relative;}#sk-container-id-2 div.sk-text-repr-fallback {display: none;}</style><div id=\"sk-container-id-2\" class=\"sk-top-container\"><div class=\"sk-text-repr-fallback\"><pre>UMAP(n_components=200, random_state=0, tqdm_kwds={&#x27;bar_format&#x27;: &#x27;{desc}: {percentage:3.0f}%| {bar} {n_fmt}/{total_fmt} [{elapsed}]&#x27;, &#x27;desc&#x27;: &#x27;Epochs completed&#x27;, &#x27;disable&#x27;: True})</pre><b>In a Jupyter environment, please rerun this cell to show the HTML representation or trust the notebook. <br />On GitHub, the HTML representation is unable to render, please try loading this page with nbviewer.org.</b></div><div class=\"sk-container\" hidden><div class=\"sk-item\"><div class=\"sk-estimator sk-toggleable\"><input class=\"sk-toggleable__control sk-hidden--visually\" id=\"sk-estimator-id-2\" type=\"checkbox\" checked><label for=\"sk-estimator-id-2\" class=\"sk-toggleable__label sk-toggleable__label-arrow\">UMAP</label><div class=\"sk-toggleable__content\"><pre>UMAP(n_components=200, random_state=0, tqdm_kwds={&#x27;bar_format&#x27;: &#x27;{desc}: {percentage:3.0f}%| {bar} {n_fmt}/{total_fmt} [{elapsed}]&#x27;, &#x27;desc&#x27;: &#x27;Epochs completed&#x27;, &#x27;disable&#x27;: True})</pre></div></div></div></div></div>"
      ],
      "text/plain": [
       "UMAP(n_components=200, random_state=0, tqdm_kwds={'bar_format': '{desc}: {percentage:3.0f}%| {bar} {n_fmt}/{total_fmt} [{elapsed}]', 'desc': 'Epochs completed', 'disable': True})"
      ]
     },
     "execution_count": 171,
     "metadata": {},
     "output_type": "execute_result"
    }
   ],
   "source": [
    "umap_model = umap.UMAP(n_components=n_components, random_state=0)\n",
    "umap_model.fit( data[genre_columns].iloc[:1000,:] )\n"
   ]
  },
  {
   "cell_type": "code",
   "execution_count": 172,
   "metadata": {},
   "outputs": [],
   "source": [
    "umap_result = umap_model.transform( data[genre_columns] )"
   ]
  },
  {
   "cell_type": "code",
   "execution_count": 60,
   "metadata": {},
   "outputs": [
    {
     "data": {
      "image/png": "[encoded data removed]",
      "text/plain": [
       "<Figure size 720x504 with 1 Axes>"
      ]
     },
     "metadata": {
      "needs_background": "light"
     },
     "output_type": "display_data"
    }
   ],
   "source": [
    "dim_plot(umap_result[:,:3], target.to_numpy().flatten())"
   ]
  },
  {
   "cell_type": "code",
   "execution_count": 173,
   "metadata": {},
   "outputs": [],
   "source": [
    "dim_red_result = umap_result"
   ]
  },
  {
   "cell_type": "code",
   "execution_count": 174,
   "metadata": {},
   "outputs": [
    {
     "data": {
      "text/html": [
       "<div>\n",
       "<style scoped>\n",
       "    .dataframe tbody tr th:only-of-type {\n",
       "        vertical-align: middle;\n",
       "    }\n",
       "\n",
       "    .dataframe tbody tr th {\n",
       "        vertical-align: top;\n",
       "    }\n",
       "\n",
       "    .dataframe thead th {\n",
       "        text-align: right;\n",
       "    }\n",
       "</style>\n",
       "<table border=\"1\" class=\"dataframe\">\n",
       "  <thead>\n",
       "    <tr style=\"text-align: right;\">\n",
       "      <th></th>\n",
       "      <th>Genre 0</th>\n",
       "      <th>Genre 1</th>\n",
       "      <th>Genre 2</th>\n",
       "      <th>Genre 3</th>\n",
       "      <th>Genre 4</th>\n",
       "      <th>Genre 5</th>\n",
       "      <th>Genre 6</th>\n",
       "      <th>Genre 7</th>\n",
       "      <th>Genre 8</th>\n",
       "      <th>Genre 9</th>\n",
       "      <th>...</th>\n",
       "      <th>Genre 190</th>\n",
       "      <th>Genre 191</th>\n",
       "      <th>Genre 192</th>\n",
       "      <th>Genre 193</th>\n",
       "      <th>Genre 194</th>\n",
       "      <th>Genre 195</th>\n",
       "      <th>Genre 196</th>\n",
       "      <th>Genre 197</th>\n",
       "      <th>Genre 198</th>\n",
       "      <th>Genre 199</th>\n",
       "    </tr>\n",
       "  </thead>\n",
       "  <tbody>\n",
       "    <tr>\n",
       "      <th>0</th>\n",
       "      <td>0.401139</td>\n",
       "      <td>7.513934</td>\n",
       "      <td>-0.983425</td>\n",
       "      <td>3.124677</td>\n",
       "      <td>7.777444</td>\n",
       "      <td>10.256311</td>\n",
       "      <td>5.557380</td>\n",
       "      <td>4.339895</td>\n",
       "      <td>5.059735</td>\n",
       "      <td>4.121490</td>\n",
       "      <td>...</td>\n",
       "      <td>5.391957</td>\n",
       "      <td>4.986638</td>\n",
       "      <td>4.788271</td>\n",
       "      <td>4.458261</td>\n",
       "      <td>3.829104</td>\n",
       "      <td>4.167898</td>\n",
       "      <td>4.867033</td>\n",
       "      <td>4.878174</td>\n",
       "      <td>3.891680</td>\n",
       "      <td>5.226994</td>\n",
       "    </tr>\n",
       "    <tr>\n",
       "      <th>1</th>\n",
       "      <td>0.718018</td>\n",
       "      <td>7.022974</td>\n",
       "      <td>-1.856163</td>\n",
       "      <td>2.946453</td>\n",
       "      <td>7.865166</td>\n",
       "      <td>10.526792</td>\n",
       "      <td>6.101334</td>\n",
       "      <td>5.158705</td>\n",
       "      <td>4.570004</td>\n",
       "      <td>4.113412</td>\n",
       "      <td>...</td>\n",
       "      <td>5.128796</td>\n",
       "      <td>5.013435</td>\n",
       "      <td>4.692409</td>\n",
       "      <td>4.218020</td>\n",
       "      <td>3.909405</td>\n",
       "      <td>4.138640</td>\n",
       "      <td>4.973183</td>\n",
       "      <td>4.825973</td>\n",
       "      <td>3.919778</td>\n",
       "      <td>5.189005</td>\n",
       "    </tr>\n",
       "    <tr>\n",
       "      <th>2</th>\n",
       "      <td>0.787019</td>\n",
       "      <td>6.946011</td>\n",
       "      <td>-1.895412</td>\n",
       "      <td>2.947062</td>\n",
       "      <td>7.886247</td>\n",
       "      <td>10.601449</td>\n",
       "      <td>6.134842</td>\n",
       "      <td>5.253975</td>\n",
       "      <td>4.560320</td>\n",
       "      <td>4.135774</td>\n",
       "      <td>...</td>\n",
       "      <td>5.112076</td>\n",
       "      <td>5.017207</td>\n",
       "      <td>4.694026</td>\n",
       "      <td>4.215303</td>\n",
       "      <td>3.896044</td>\n",
       "      <td>4.135749</td>\n",
       "      <td>4.973501</td>\n",
       "      <td>4.814440</td>\n",
       "      <td>3.925729</td>\n",
       "      <td>5.182456</td>\n",
       "    </tr>\n",
       "    <tr>\n",
       "      <th>3</th>\n",
       "      <td>-1.909626</td>\n",
       "      <td>11.130042</td>\n",
       "      <td>-4.368726</td>\n",
       "      <td>2.531094</td>\n",
       "      <td>7.007669</td>\n",
       "      <td>12.688078</td>\n",
       "      <td>5.735023</td>\n",
       "      <td>5.820513</td>\n",
       "      <td>5.203997</td>\n",
       "      <td>3.782926</td>\n",
       "      <td>...</td>\n",
       "      <td>4.958140</td>\n",
       "      <td>5.311049</td>\n",
       "      <td>4.523271</td>\n",
       "      <td>4.263134</td>\n",
       "      <td>3.824207</td>\n",
       "      <td>3.988621</td>\n",
       "      <td>4.852787</td>\n",
       "      <td>4.667660</td>\n",
       "      <td>3.696894</td>\n",
       "      <td>5.145448</td>\n",
       "    </tr>\n",
       "    <tr>\n",
       "      <th>4</th>\n",
       "      <td>1.065860</td>\n",
       "      <td>6.730938</td>\n",
       "      <td>-1.551436</td>\n",
       "      <td>2.332492</td>\n",
       "      <td>7.089417</td>\n",
       "      <td>10.300221</td>\n",
       "      <td>6.416355</td>\n",
       "      <td>5.648290</td>\n",
       "      <td>4.504544</td>\n",
       "      <td>3.838565</td>\n",
       "      <td>...</td>\n",
       "      <td>5.384787</td>\n",
       "      <td>4.888872</td>\n",
       "      <td>4.818115</td>\n",
       "      <td>4.278892</td>\n",
       "      <td>3.898338</td>\n",
       "      <td>4.125101</td>\n",
       "      <td>4.923999</td>\n",
       "      <td>4.864573</td>\n",
       "      <td>3.989892</td>\n",
       "      <td>5.257958</td>\n",
       "    </tr>\n",
       "    <tr>\n",
       "      <th>...</th>\n",
       "      <td>...</td>\n",
       "      <td>...</td>\n",
       "      <td>...</td>\n",
       "      <td>...</td>\n",
       "      <td>...</td>\n",
       "      <td>...</td>\n",
       "      <td>...</td>\n",
       "      <td>...</td>\n",
       "      <td>...</td>\n",
       "      <td>...</td>\n",
       "      <td>...</td>\n",
       "      <td>...</td>\n",
       "      <td>...</td>\n",
       "      <td>...</td>\n",
       "      <td>...</td>\n",
       "      <td>...</td>\n",
       "      <td>...</td>\n",
       "      <td>...</td>\n",
       "      <td>...</td>\n",
       "      <td>...</td>\n",
       "      <td>...</td>\n",
       "    </tr>\n",
       "    <tr>\n",
       "      <th>42689</th>\n",
       "      <td>0.853496</td>\n",
       "      <td>7.007957</td>\n",
       "      <td>-1.635746</td>\n",
       "      <td>2.282282</td>\n",
       "      <td>7.047070</td>\n",
       "      <td>10.328662</td>\n",
       "      <td>6.381402</td>\n",
       "      <td>5.520251</td>\n",
       "      <td>4.602662</td>\n",
       "      <td>3.826365</td>\n",
       "      <td>...</td>\n",
       "      <td>5.373257</td>\n",
       "      <td>4.894289</td>\n",
       "      <td>4.804361</td>\n",
       "      <td>4.271299</td>\n",
       "      <td>3.896813</td>\n",
       "      <td>4.102924</td>\n",
       "      <td>4.925584</td>\n",
       "      <td>4.872275</td>\n",
       "      <td>3.984000</td>\n",
       "      <td>5.248615</td>\n",
       "    </tr>\n",
       "    <tr>\n",
       "      <th>42690</th>\n",
       "      <td>-1.874331</td>\n",
       "      <td>11.237284</td>\n",
       "      <td>-4.540036</td>\n",
       "      <td>2.575938</td>\n",
       "      <td>7.052080</td>\n",
       "      <td>12.710847</td>\n",
       "      <td>5.855628</td>\n",
       "      <td>5.439118</td>\n",
       "      <td>5.083217</td>\n",
       "      <td>3.803868</td>\n",
       "      <td>...</td>\n",
       "      <td>4.951715</td>\n",
       "      <td>5.331209</td>\n",
       "      <td>4.508698</td>\n",
       "      <td>4.229072</td>\n",
       "      <td>3.836164</td>\n",
       "      <td>3.959926</td>\n",
       "      <td>4.897376</td>\n",
       "      <td>4.644936</td>\n",
       "      <td>3.669814</td>\n",
       "      <td>5.094580</td>\n",
       "    </tr>\n",
       "    <tr>\n",
       "      <th>42691</th>\n",
       "      <td>0.074173</td>\n",
       "      <td>7.655718</td>\n",
       "      <td>-1.941806</td>\n",
       "      <td>2.878164</td>\n",
       "      <td>7.862320</td>\n",
       "      <td>10.464359</td>\n",
       "      <td>5.912828</td>\n",
       "      <td>4.770049</td>\n",
       "      <td>4.792908</td>\n",
       "      <td>4.045306</td>\n",
       "      <td>...</td>\n",
       "      <td>5.117077</td>\n",
       "      <td>5.066905</td>\n",
       "      <td>4.648489</td>\n",
       "      <td>4.213526</td>\n",
       "      <td>3.914891</td>\n",
       "      <td>4.108509</td>\n",
       "      <td>4.981408</td>\n",
       "      <td>4.840713</td>\n",
       "      <td>3.874894</td>\n",
       "      <td>5.176481</td>\n",
       "    </tr>\n",
       "    <tr>\n",
       "      <th>42692</th>\n",
       "      <td>0.306822</td>\n",
       "      <td>7.613029</td>\n",
       "      <td>-0.928830</td>\n",
       "      <td>3.153642</td>\n",
       "      <td>7.699113</td>\n",
       "      <td>10.212525</td>\n",
       "      <td>5.557044</td>\n",
       "      <td>4.259286</td>\n",
       "      <td>5.056951</td>\n",
       "      <td>4.092164</td>\n",
       "      <td>...</td>\n",
       "      <td>5.397412</td>\n",
       "      <td>4.967041</td>\n",
       "      <td>4.788458</td>\n",
       "      <td>4.435040</td>\n",
       "      <td>3.841043</td>\n",
       "      <td>4.166580</td>\n",
       "      <td>4.874187</td>\n",
       "      <td>4.884877</td>\n",
       "      <td>3.902863</td>\n",
       "      <td>5.240404</td>\n",
       "    </tr>\n",
       "    <tr>\n",
       "      <th>42693</th>\n",
       "      <td>-2.017605</td>\n",
       "      <td>11.649434</td>\n",
       "      <td>-4.124917</td>\n",
       "      <td>2.451670</td>\n",
       "      <td>7.001079</td>\n",
       "      <td>12.466617</td>\n",
       "      <td>5.809203</td>\n",
       "      <td>4.916223</td>\n",
       "      <td>5.312925</td>\n",
       "      <td>3.665147</td>\n",
       "      <td>...</td>\n",
       "      <td>5.017506</td>\n",
       "      <td>5.321833</td>\n",
       "      <td>4.547626</td>\n",
       "      <td>4.229918</td>\n",
       "      <td>3.836606</td>\n",
       "      <td>3.972547</td>\n",
       "      <td>4.885329</td>\n",
       "      <td>4.693039</td>\n",
       "      <td>3.716118</td>\n",
       "      <td>5.125831</td>\n",
       "    </tr>\n",
       "  </tbody>\n",
       "</table>\n",
       "<p>42694 rows × 200 columns</p>\n",
       "</div>"
      ],
      "text/plain": [
       "        Genre 0    Genre 1   Genre 2   Genre 3   Genre 4    Genre 5   Genre 6  \\\n",
       "0      0.401139   7.513934 -0.983425  3.124677  7.777444  10.256311  5.557380   \n",
       "1      0.718018   7.022974 -1.856163  2.946453  7.865166  10.526792  6.101334   \n",
       "2      0.787019   6.946011 -1.895412  2.947062  7.886247  10.601449  6.134842   \n",
       "3     -1.909626  11.130042 -4.368726  2.531094  7.007669  12.688078  5.735023   \n",
       "4      1.065860   6.730938 -1.551436  2.332492  7.089417  10.300221  6.416355   \n",
       "...         ...        ...       ...       ...       ...        ...       ...   \n",
       "42689  0.853496   7.007957 -1.635746  2.282282  7.047070  10.328662  6.381402   \n",
       "42690 -1.874331  11.237284 -4.540036  2.575938  7.052080  12.710847  5.855628   \n",
       "42691  0.074173   7.655718 -1.941806  2.878164  7.862320  10.464359  5.912828   \n",
       "42692  0.306822   7.613029 -0.928830  3.153642  7.699113  10.212525  5.557044   \n",
       "42693 -2.017605  11.649434 -4.124917  2.451670  7.001079  12.466617  5.809203   \n",
       "\n",
       "        Genre 7   Genre 8   Genre 9  ...  Genre 190  Genre 191  Genre 192  \\\n",
       "0      4.339895  5.059735  4.121490  ...   5.391957   4.986638   4.788271   \n",
       "1      5.158705  4.570004  4.113412  ...   5.128796   5.013435   4.692409   \n",
       "2      5.253975  4.560320  4.135774  ...   5.112076   5.017207   4.694026   \n",
       "3      5.820513  5.203997  3.782926  ...   4.958140   5.311049   4.523271   \n",
       "4      5.648290  4.504544  3.838565  ...   5.384787   4.888872   4.818115   \n",
       "...         ...       ...       ...  ...        ...        ...        ...   \n",
       "42689  5.520251  4.602662  3.826365  ...   5.373257   4.894289   4.804361   \n",
       "42690  5.439118  5.083217  3.803868  ...   4.951715   5.331209   4.508698   \n",
       "42691  4.770049  4.792908  4.045306  ...   5.117077   5.066905   4.648489   \n",
       "42692  4.259286  5.056951  4.092164  ...   5.397412   4.967041   4.788458   \n",
       "42693  4.916223  5.312925  3.665147  ...   5.017506   5.321833   4.547626   \n",
       "\n",
       "       Genre 193  Genre 194  Genre 195  Genre 196  Genre 197  Genre 198  \\\n",
       "0       4.458261   3.829104   4.167898   4.867033   4.878174   3.891680   \n",
       "1       4.218020   3.909405   4.138640   4.973183   4.825973   3.919778   \n",
       "2       4.215303   3.896044   4.135749   4.973501   4.814440   3.925729   \n",
       "3       4.263134   3.824207   3.988621   4.852787   4.667660   3.696894   \n",
       "4       4.278892   3.898338   4.125101   4.923999   4.864573   3.989892   \n",
       "...          ...        ...        ...        ...        ...        ...   \n",
       "42689   4.271299   3.896813   4.102924   4.925584   4.872275   3.984000   \n",
       "42690   4.229072   3.836164   3.959926   4.897376   4.644936   3.669814   \n",
       "42691   4.213526   3.914891   4.108509   4.981408   4.840713   3.874894   \n",
       "42692   4.435040   3.841043   4.166580   4.874187   4.884877   3.902863   \n",
       "42693   4.229918   3.836606   3.972547   4.885329   4.693039   3.716118   \n",
       "\n",
       "       Genre 199  \n",
       "0       5.226994  \n",
       "1       5.189005  \n",
       "2       5.182456  \n",
       "3       5.145448  \n",
       "4       5.257958  \n",
       "...          ...  \n",
       "42689   5.248615  \n",
       "42690   5.094580  \n",
       "42691   5.176481  \n",
       "42692   5.240404  \n",
       "42693   5.125831  \n",
       "\n",
       "[42694 rows x 200 columns]"
      ]
     },
     "execution_count": 174,
     "metadata": {},
     "output_type": "execute_result"
    }
   ],
   "source": [
    "dim_red_result = pd.DataFrame(data=dim_red_result, columns=[\"Genre \"+str(i) for i in range(n_components)])\n",
    "dim_red_result"
   ]
  },
  {
   "cell_type": "markdown",
   "metadata": {},
   "source": [
    "## NLP on Descriptions"
   ]
  },
  {
   "cell_type": "code",
   "execution_count": 176,
   "metadata": {},
   "outputs": [
    {
     "data": {
      "text/plain": [
       "0        Reed Brennan arrived at Easton Academy expecti...\n",
       "1        Ideje az Ã¶lelÃ©snek TÃ¶rtÃ©net a remÃ©nyrÅl,...\n",
       "2        Filmmakers Chase Ryan and Keith Ellison have c...\n",
       "4        The incredible national bestseller that is cha...\n",
       "5        With her high-spirited intelligence and good l...\n",
       "                               ...                        \n",
       "52194    The unabridged, downloadable audiobook edition...\n",
       "52195    An affecting and hope-filled posthumous collec...\n",
       "52196    6. August 1945, 8 Uhr 15 Minuten - die kleine ...\n",
       "52197    Sometimes the truth hurts....     Reed Brennan...\n",
       "52198    is the #1  bestselling memoir from Sarah Palin...\n",
       "Name: description, Length: 42694, dtype: object"
      ]
     },
     "execution_count": 176,
     "metadata": {},
     "output_type": "execute_result"
    }
   ],
   "source": [
    "data['description'][~data['description'].isna()]"
   ]
  },
  {
   "cell_type": "code",
   "execution_count": 177,
   "metadata": {},
   "outputs": [
    {
     "data": {
      "text/plain": [
       "\"Jim Butcher, the #1 New York Times bestselling author of The Dresden Files and the Codex Alera novels, conjures up a new series set in a fantastic world of noble families, steam-powered technology, and magic-wielding warriors.¦ Since time immemorial, the Spires have sheltered humanity, towering for miles over the mist-shrouded surface of the world. Within their halls, aristo Jim Butcher, the #1 New York Times bestselling author of The Dresden Files and the Codex Alera novels, conjures up a new series set in a fantastic world of noble families, steam-powered technology, and magic-wielding warriors.¦ Since time immemorial, the Spires have sheltered humanity, towering for miles over the mist-shrouded surface of the world. Within their halls, aristocratic houses have ruled for generations, developing scientific marvels, fostering trade alliances, and building fleets of airships to keep the peace. Captain Grimm commands the merchant ship,  . Fiercely loyal to Spire Albion, he has taken their side in the cold war with Spire Aurora, disrupting the enemy's shipping lines by attacking their cargo vessels. But when the   is severely damaged in combat, leaving captain and crew grounded, Grimm is offered a proposition from the Spirearch of Albion-to join a team of agents on a vital mission in exchange for fully restoring   to its fighting glory. And even as Grimm undertakes this dangerous task, he will learn that the conflict between the Spires is merely a premonition of things to come. Humanity's ancient enemy, silent for more than ten thousand years, has begun to stir once more. And death will follow in its wake.¦\""
      ]
     },
     "execution_count": 177,
     "metadata": {},
     "output_type": "execute_result"
    }
   ],
   "source": [
    "data['description'][10]"
   ]
  },
  {
   "cell_type": "markdown",
   "metadata": {},
   "source": [
    "It looks like some characters, such as the apostrophe, were not properly recorded. I will replace some of the obvious offenders manually."
   ]
  },
  {
   "cell_type": "code",
   "execution_count": 178,
   "metadata": {},
   "outputs": [],
   "source": [
    "data['description'] = data['description'].str.replace('â\\x80\\x99', \"'\", regex=False)\n",
    "data['description'] = data['description'].str.replace('â\\x80\\x94', \"-\", regex=False)\n",
    "data['description'] = data['description'].str.replace('â\\x80', \".\", regex=False)"
   ]
  },
  {
   "cell_type": "code",
   "execution_count": 179,
   "metadata": {},
   "outputs": [
    {
     "data": {
      "text/plain": [
       "\"Jim Butcher, the #1 New York Times bestselling author of The Dresden Files and the Codex Alera novels, conjures up a new series set in a fantastic world of noble families, steam-powered technology, and magic-wielding warriors.¦ Since time immemorial, the Spires have sheltered humanity, towering for miles over the mist-shrouded surface of the world. Within their halls, aristo Jim Butcher, the #1 New York Times bestselling author of The Dresden Files and the Codex Alera novels, conjures up a new series set in a fantastic world of noble families, steam-powered technology, and magic-wielding warriors.¦ Since time immemorial, the Spires have sheltered humanity, towering for miles over the mist-shrouded surface of the world. Within their halls, aristocratic houses have ruled for generations, developing scientific marvels, fostering trade alliances, and building fleets of airships to keep the peace. Captain Grimm commands the merchant ship,  . Fiercely loyal to Spire Albion, he has taken their side in the cold war with Spire Aurora, disrupting the enemy's shipping lines by attacking their cargo vessels. But when the   is severely damaged in combat, leaving captain and crew grounded, Grimm is offered a proposition from the Spirearch of Albion-to join a team of agents on a vital mission in exchange for fully restoring   to its fighting glory. And even as Grimm undertakes this dangerous task, he will learn that the conflict between the Spires is merely a premonition of things to come. Humanity's ancient enemy, silent for more than ten thousand years, has begun to stir once more. And death will follow in its wake.¦\""
      ]
     },
     "execution_count": 179,
     "metadata": {},
     "output_type": "execute_result"
    }
   ],
   "source": [
    "data['description'][10]"
   ]
  },
  {
   "cell_type": "code",
   "execution_count": 180,
   "metadata": {},
   "outputs": [
    {
     "name": "stdout",
     "output_type": "stream",
     "text": [
      "       able     about  acclaimed  across  action  adventure     after  again  \\\n",
      "0       0.0  0.000000        0.0     0.0     0.0        0.0  0.000000    0.0   \n",
      "1       0.0  0.000000        0.0     0.0     0.0        0.0  0.000000    0.0   \n",
      "2       0.0  0.000000        0.0     0.0     0.0        0.0  0.000000    0.0   \n",
      "3       0.0  0.000000        0.0     0.0     0.0        0.0  0.000000    0.0   \n",
      "4       0.0  0.000000        0.0     0.0     0.0        0.0  0.104643    0.0   \n",
      "...     ...       ...        ...     ...     ...        ...       ...    ...   \n",
      "42689   0.0  0.000000        0.0     0.0     0.0        0.0  0.000000    0.0   \n",
      "42690   0.0  0.000000        0.0     0.0     0.0        0.0  0.054959    0.0   \n",
      "42691   0.0  0.000000        0.0     0.0     0.0        0.0  0.000000    0.0   \n",
      "42692   0.0  0.046874        0.0     0.0     0.0        0.0  0.000000    0.0   \n",
      "42693   0.0  0.150872        0.0     0.0     0.0        0.0  0.000000    0.0   \n",
      "\n",
      "       against  age  ...  writing  written     wrong      year     years  \\\n",
      "0          0.0  0.0  ...      0.0      0.0  0.000000  0.143733  0.000000   \n",
      "1          0.0  0.0  ...      0.0      0.0  0.000000  0.000000  0.000000   \n",
      "2          0.0  0.0  ...      0.0      0.0  0.000000  0.000000  0.000000   \n",
      "3          0.0  0.0  ...      0.0      0.0  0.000000  0.000000  0.000000   \n",
      "4          0.0  0.0  ...      0.0      0.0  0.079948  0.000000  0.000000   \n",
      "...        ...  ...  ...      ...      ...       ...       ...       ...   \n",
      "42689      0.0  0.0  ...      0.0      0.0  0.000000  0.000000  0.086237   \n",
      "42690      0.0  0.0  ...      0.0      0.0  0.000000  0.000000  0.000000   \n",
      "42691      0.0  0.0  ...      0.0      0.0  0.000000  0.000000  0.000000   \n",
      "42692      0.0  0.0  ...      0.0      0.0  0.000000  0.000000  0.000000   \n",
      "42693      0.0  0.0  ...      0.0      0.0  0.000000  0.000000  0.000000   \n",
      "\n",
      "            yet      york  you     young  your  \n",
      "0      0.000000  0.000000  0.0  0.000000   0.0  \n",
      "1      0.000000  0.000000  0.0  0.000000   0.0  \n",
      "2      0.000000  0.000000  0.0  0.000000   0.0  \n",
      "3      0.000000  0.000000  0.0  0.000000   0.0  \n",
      "4      0.064999  0.000000  0.0  0.109691   0.0  \n",
      "...         ...       ...  ...       ...   ...  \n",
      "42689  0.000000  0.000000  0.0  0.000000   0.0  \n",
      "42690  0.000000  0.150141  0.0  0.115219   0.0  \n",
      "42691  0.000000  0.000000  0.0  0.000000   0.0  \n",
      "42692  0.000000  0.000000  0.0  0.000000   0.0  \n",
      "42693  0.000000  0.000000  0.0  0.000000   0.0  \n",
      "\n",
      "[42694 rows x 626 columns]\n"
     ]
    }
   ],
   "source": [
    "# Create an instance of CountVectorizer\n",
    "# lowering max_df will limit the number of meaningless words (articles,conjunctions)\n",
    "# raising min_df will limit the number of misspelled words and numbers\n",
    "count_vectorizer = TfidfVectorizer(max_df=0.75,min_df=0.02)\n",
    "\n",
    "# Fit and transform the 'text' column of the DataFrame\n",
    "X = count_vectorizer.fit_transform(data['description'][~data['description'].isna()].iloc[:100000])\n",
    "\n",
    "# Convert the transformed data back into a DataFrame\n",
    "vectorized_df = pd.DataFrame(X.toarray(), columns=count_vectorizer.get_feature_names_out())\n",
    "\n",
    "# Print the resulting DataFrame\n",
    "print(vectorized_df)"
   ]
  },
  {
   "cell_type": "code",
   "execution_count": 181,
   "metadata": {},
   "outputs": [
    {
     "name": "stdout",
     "output_type": "stream",
     "text": [
      "Number of word features: 626\n",
      "\n",
      "Word features: Index(['able', 'about', 'acclaimed', 'across', 'action', 'adventure', 'after',\n",
      "       'again', 'against', 'age',\n",
      "       ...\n",
      "       'writing', 'written', 'wrong', 'year', 'years', 'yet', 'york', 'you',\n",
      "       'young', 'your'],\n",
      "      dtype='object', length=626)\n"
     ]
    }
   ],
   "source": [
    "print(f\"Number of word features: {vectorized_df.columns.size}\\n\")\n",
    "print(f\"Word features: {vectorized_df.columns}\")"
   ]
  },
  {
   "cell_type": "code",
   "execution_count": null,
   "metadata": {},
   "outputs": [],
   "source": []
  },
  {
   "cell_type": "code",
   "execution_count": 182,
   "metadata": {},
   "outputs": [],
   "source": [
    "# Add the genre data and word vectors to the data\n",
    "feature_space = pd.concat([feature_space.reset_index(drop=True), dim_red_result, vectorized_df], axis=1)"
   ]
  },
  {
   "cell_type": "code",
   "execution_count": 183,
   "metadata": {},
   "outputs": [
    {
     "data": {
      "text/plain": [
       "(42694, 829)"
      ]
     },
     "execution_count": 183,
     "metadata": {},
     "output_type": "execute_result"
    }
   ],
   "source": [
    "feature_space.shape"
   ]
  },
  {
   "cell_type": "code",
   "execution_count": 184,
   "metadata": {},
   "outputs": [],
   "source": [
    "feature_space.to_csv('feature_space_2.csv', index=False)\n",
    "target.to_csv('target.csv', index=False)"
   ]
  },
  {
   "cell_type": "code",
   "execution_count": 6,
   "metadata": {},
   "outputs": [],
   "source": [
    "feature_space = pd.read_csv(\"feature_space_2.csv\", header=0)\n",
    "target = pd.read_csv(\"target.csv\", header=0)"
   ]
  },
  {
   "cell_type": "code",
   "execution_count": 7,
   "metadata": {},
   "outputs": [
    {
     "data": {
      "text/plain": [
       "Index(['date_published_numeric', 'number_of_pages', 'awards_count', 'Genre 0',\n",
       "       'Genre 1', 'Genre 2', 'Genre 3', 'Genre 4', 'Genre 5', 'Genre 6',\n",
       "       ...\n",
       "       'writing', 'written', 'wrong', 'year', 'years', 'yet', 'york', 'you',\n",
       "       'young', 'your'],\n",
       "      dtype='object', length=829)"
      ]
     },
     "execution_count": 7,
     "metadata": {},
     "output_type": "execute_result"
    }
   ],
   "source": [
    "feature_space.columns"
   ]
  },
  {
   "cell_type": "code",
   "execution_count": 8,
   "metadata": {},
   "outputs": [],
   "source": [
    "from sklearn.metrics import mean_squared_error, r2_score\n",
    "from sklearn.preprocessing import StandardScaler"
   ]
  },
  {
   "cell_type": "markdown",
   "metadata": {},
   "source": [
    "## Regression"
   ]
  },
  {
   "cell_type": "code",
   "execution_count": 144,
   "metadata": {},
   "outputs": [],
   "source": [
    "# Standardize\n",
    "scaler = StandardScaler()\n",
    "feature_space_standard = scaler.fit_transform(feature_space)"
   ]
  },
  {
   "cell_type": "code",
   "execution_count": 173,
   "metadata": {},
   "outputs": [],
   "source": [
    "X_train, X_test, y_train, y_test = train_test_split(feature_space_standard, data['average_rating'].to_numpy().flatten(),\n",
    "                                                                test_size=0.2, random_state=0)"
   ]
  },
  {
   "cell_type": "code",
   "execution_count": 174,
   "metadata": {},
   "outputs": [],
   "source": [
    "# This function accepts a classifer model as well as train/test data\n",
    "# Outputs accuracy and confusion matrix\n",
    "def regress(model, X_train, X_test, y_train, y_test):\n",
    "    y_test = y_test.to_numpy().flatten()\n",
    "    \n",
    "    model.fit(X_train, y_train)\n",
    "\n",
    "    y_pred = model.predict(X_test)\n",
    "    \n",
    "    mse = mean_squared_error(y_test, y_pred)\n",
    "    r2s = r2_score(y_test, y_pred)\n",
    "    \n",
    "#     acc = accuracy_score(y_test, y_pred)\n",
    "\n",
    "    # Confusion Matrix\n",
    "#     confuse = pd.crosstab(y_pred, y_test, rownames=['y_pred'], colnames=['y_test'])\n",
    "    \n",
    "    return mse, r2s"
   ]
  },
  {
   "cell_type": "code",
   "execution_count": 175,
   "metadata": {},
   "outputs": [
    {
     "name": "stdout",
     "output_type": "stream",
     "text": [
      "Mean squared error: 0.09248585796293989\n",
      "R2 value is 0.04245174595606016\n"
     ]
    }
   ],
   "source": [
    "# fit SGD Regressor on features space\n",
    "sgd_reg = SGDRegressor(max_iter=1000,tol = 0.0001,early_stopping=False,warm_start=False,n_iter_no_change = 5)\n",
    "\n",
    "mse, r2s = regress(sgd_reg, X_train, X_test, y_train, y_test)\n",
    "\n",
    "\n",
    "print(f\"Mean squared error: {mse}\")\n",
    "print(f\"R2 value is {r2s}\")"
   ]
  },
  {
   "cell_type": "markdown",
   "metadata": {},
   "source": [
    "## Classification"
   ]
  },
  {
   "cell_type": "code",
   "execution_count": 89,
   "metadata": {},
   "outputs": [],
   "source": [
    "X_train, X_test, y_train, y_test = train_test_split(feature_space, target.to_numpy().flatten(),\n",
    "                                                                test_size=0.2, random_state=0)"
   ]
  },
  {
   "cell_type": "code",
   "execution_count": 90,
   "metadata": {},
   "outputs": [],
   "source": [
    "# This function accepts a classifer model as well as train/test data\n",
    "# Outputs accuracy and confusion matrix\n",
    "def classify(model, X_train, X_test, y_train, y_test):\n",
    "    \n",
    "    model.fit(X_train, y_train)\n",
    "\n",
    "    y_pred = model.predict(X_test)\n",
    "    \n",
    "    acc = accuracy_score(y_test, y_pred)\n",
    "\n",
    "    # Confusion Matrix\n",
    "    confuse = pd.crosstab(y_pred, y_test, rownames=['y_pred'], colnames=['y_test'])\n",
    "    \n",
    "    return acc, confuse"
   ]
  },
  {
   "cell_type": "code",
   "execution_count": 165,
   "metadata": {},
   "outputs": [
    {
     "name": "stdout",
     "output_type": "stream",
     "text": [
      "XGBoost Accuracy: 0.9460124136315727\n",
      "\n",
      "Confusion Matrix:\n",
      " y_test    0     1\n",
      "y_pred           \n",
      "0        11    15\n",
      "1       446  8067\n"
     ]
    }
   ],
   "source": [
    "# fit XGBClassifier on feature space\n",
    "xgb = XGBClassifier(n_estimators=1000,\n",
    "                    max_depth = 20,\n",
    "                    eta = 0.3,\n",
    "                    min_child_weight = 5,\n",
    "                    random_state=0)\n",
    "# xgb = XGBClassifier(n_estimators=100, random_state=0)\n",
    "\n",
    "acc, cross = classify(xgb, X_train, X_test, y_train, y_test)\n",
    "\n",
    "print('XGBoost Accuracy:', acc)\n",
    "print('\\nConfusion Matrix:\\n', cross)"
   ]
  },
  {
   "cell_type": "code",
   "execution_count": 161,
   "metadata": {},
   "outputs": [
    {
     "name": "stdout",
     "output_type": "stream",
     "text": [
      "XGBoost Accuracy: 0.9409628675178634\n",
      "\n",
      "Confusion Matrix:\n",
      " y_test    0     1\n",
      "y_pred           \n",
      "0        13    33\n",
      "1       471  8020\n"
     ]
    }
   ],
   "source": [
    "# fit XGBClassifier on feature space\n",
    "xgb = XGBClassifier(n_estimators=500,\n",
    "                    max_depth = 20,\n",
    "                    eta = 0.5,\n",
    "                    min_child_weight = 5,\n",
    "                    random_state=0)\n",
    "# xgb = XGBClassifier(n_estimators=100, random_state=0)\n",
    "\n",
    "acc, cross = classify(xgb, X_train, X_test, y_train, y_test)\n",
    "\n",
    "print('XGBoost Accuracy:', acc)\n",
    "print('\\nConfusion Matrix:\\n', cross)"
   ]
  },
  {
   "cell_type": "code",
   "execution_count": 142,
   "metadata": {},
   "outputs": [
    {
     "name": "stdout",
     "output_type": "stream",
     "text": [
      "[1 1 1 ... 1 1 1]\n",
      "[1 1 1 ... 1 1 1]\n",
      "CO2:\n",
      "\n",
      "Decision Tree Accuracy: 0.8934051774628089\n",
      "\n",
      "Confusion Matrix:\n",
      " y_test    0     1\n",
      "y_pred           \n",
      "0        45   471\n",
      "1       439  7582\n"
     ]
    }
   ],
   "source": [
    "clf = DecisionTreeClassifier(criterion='gini',\n",
    "                             min_samples_split=3,\n",
    "                             min_samples_leaf=1, random_state=0)\n",
    "\n",
    "acc, cross = classify(clf, X_train, X_test, y_train, y_test)\n",
    "\n",
    "print('Decision Tree Accuracy:', acc)\n",
    "print('\\nConfusion Matrix:\\n', cross)"
   ]
  },
  {
   "cell_type": "code",
   "execution_count": 148,
   "metadata": {},
   "outputs": [
    {
     "name": "stderr",
     "output_type": "stream",
     "text": [
      "<ipython-input-141-3a18d81f68cf>:6: DataConversionWarning: A column-vector y was passed when a 1d array was expected. Please change the shape of y to (n_samples,), for example using ravel().\n",
      "  model.fit(X_train, y_train)\n"
     ]
    },
    {
     "name": "stdout",
     "output_type": "stream",
     "text": [
      "[1 1 1 ... 1 1 1]\n",
      "[1 1 1 ... 1 1 1]\n",
      "Random Forest Accuracy: 0.9433056108703292\n",
      "\n",
      "Confusion Matrix:\n",
      " y_test    0     1\n",
      "y_pred           \n",
      "1       484  8053\n"
     ]
    }
   ],
   "source": [
    "rf = RandomForestClassifier(n_estimators=1000,\n",
    "                            criterion='entropy',\n",
    "                            min_samples_split=3,\n",
    "                            min_samples_leaf=1,\n",
    "                            random_state=0)\n",
    "\n",
    "acc, cross = classify(rf, X_train, X_test, y_train, y_test)\n",
    "\n",
    "print('Random Forest Accuracy:', acc)\n",
    "print('\\nConfusion Matrix:\\n', cross)"
   ]
  },
  {
   "cell_type": "markdown",
   "metadata": {},
   "source": [
    "### Clustering"
   ]
  },
  {
   "cell_type": "code",
   "execution_count": 9,
   "metadata": {},
   "outputs": [],
   "source": [
    "# Clustering\n",
    "from sklearn.cluster import KMeans, MiniBatchKMeans, DBSCAN\n",
    "import hdbscan\n",
    "from sklearn import metrics"
   ]
  },
  {
   "cell_type": "code",
   "execution_count": 13,
   "metadata": {},
   "outputs": [],
   "source": [
    "n_components = 200\n",
    "n_clusters = n_components"
   ]
  },
  {
   "cell_type": "code",
   "execution_count": 14,
   "metadata": {},
   "outputs": [],
   "source": [
    "genres = [\"Genre \"+str(i) for i in range(n_components)]\n",
    "not_genres = [f not in genres for f in feature_space.columns]\n",
    "not_genres = np.array(not_genres)"
   ]
  },
  {
   "cell_type": "code",
   "execution_count": 15,
   "metadata": {},
   "outputs": [],
   "source": [
    "# Standardize\n",
    "scaler = StandardScaler()\n",
    "feature_space_standard = scaler.fit_transform(feature_space[feature_space.columns[~not_genres]])\n",
    "feature_space_standard = pd.DataFrame(feature_space_standard, columns=genres)"
   ]
  },
  {
   "cell_type": "code",
   "execution_count": 155,
   "metadata": {},
   "outputs": [
    {
     "data": {
      "text/html": [
       "<div>\n",
       "<style scoped>\n",
       "    .dataframe tbody tr th:only-of-type {\n",
       "        vertical-align: middle;\n",
       "    }\n",
       "\n",
       "    .dataframe tbody tr th {\n",
       "        vertical-align: top;\n",
       "    }\n",
       "\n",
       "    .dataframe thead th {\n",
       "        text-align: right;\n",
       "    }\n",
       "</style>\n",
       "<table border=\"1\" class=\"dataframe\">\n",
       "  <thead>\n",
       "    <tr style=\"text-align: right;\">\n",
       "      <th></th>\n",
       "      <th>Genre 0</th>\n",
       "      <th>Genre 1</th>\n",
       "      <th>Genre 2</th>\n",
       "      <th>Genre 3</th>\n",
       "      <th>Genre 4</th>\n",
       "      <th>Genre 5</th>\n",
       "      <th>Genre 6</th>\n",
       "      <th>Genre 7</th>\n",
       "      <th>Genre 8</th>\n",
       "      <th>Genre 9</th>\n",
       "      <th>Genre 10</th>\n",
       "      <th>Genre 11</th>\n",
       "      <th>Genre 12</th>\n",
       "      <th>Genre 13</th>\n",
       "      <th>Genre 14</th>\n",
       "      <th>Genre 15</th>\n",
       "      <th>Genre 16</th>\n",
       "      <th>Genre 17</th>\n",
       "      <th>Genre 18</th>\n",
       "      <th>Genre 19</th>\n",
       "    </tr>\n",
       "  </thead>\n",
       "  <tbody>\n",
       "    <tr>\n",
       "      <th>0</th>\n",
       "      <td>0.777766</td>\n",
       "      <td>-0.686244</td>\n",
       "      <td>-0.719640</td>\n",
       "      <td>1.401621</td>\n",
       "      <td>0.410168</td>\n",
       "      <td>-0.781745</td>\n",
       "      <td>-0.659786</td>\n",
       "      <td>-0.468616</td>\n",
       "      <td>-0.838009</td>\n",
       "      <td>0.309441</td>\n",
       "      <td>0.456302</td>\n",
       "      <td>-0.891487</td>\n",
       "      <td>0.229105</td>\n",
       "      <td>0.063681</td>\n",
       "      <td>-1.285683</td>\n",
       "      <td>0.367730</td>\n",
       "      <td>0.135037</td>\n",
       "      <td>-0.879726</td>\n",
       "      <td>-0.611217</td>\n",
       "      <td>-0.091065</td>\n",
       "    </tr>\n",
       "    <tr>\n",
       "      <th>1</th>\n",
       "      <td>0.682826</td>\n",
       "      <td>-0.833234</td>\n",
       "      <td>-0.860815</td>\n",
       "      <td>-0.152083</td>\n",
       "      <td>0.848347</td>\n",
       "      <td>0.645152</td>\n",
       "      <td>-0.449278</td>\n",
       "      <td>0.404573</td>\n",
       "      <td>-0.299885</td>\n",
       "      <td>1.160783</td>\n",
       "      <td>-1.231102</td>\n",
       "      <td>-0.825216</td>\n",
       "      <td>0.856046</td>\n",
       "      <td>0.940256</td>\n",
       "      <td>-0.370464</td>\n",
       "      <td>-0.611308</td>\n",
       "      <td>0.949429</td>\n",
       "      <td>-0.289362</td>\n",
       "      <td>-0.636535</td>\n",
       "      <td>-0.761778</td>\n",
       "    </tr>\n",
       "    <tr>\n",
       "      <th>2</th>\n",
       "      <td>0.609459</td>\n",
       "      <td>-0.912764</td>\n",
       "      <td>-1.031587</td>\n",
       "      <td>-0.184442</td>\n",
       "      <td>0.772083</td>\n",
       "      <td>0.829414</td>\n",
       "      <td>-0.380312</td>\n",
       "      <td>0.513276</td>\n",
       "      <td>-0.377556</td>\n",
       "      <td>1.381188</td>\n",
       "      <td>-1.385354</td>\n",
       "      <td>-0.921406</td>\n",
       "      <td>0.931754</td>\n",
       "      <td>0.837440</td>\n",
       "      <td>-0.276080</td>\n",
       "      <td>-0.680950</td>\n",
       "      <td>1.049242</td>\n",
       "      <td>-0.337964</td>\n",
       "      <td>-0.585958</td>\n",
       "      <td>-0.777355</td>\n",
       "    </tr>\n",
       "    <tr>\n",
       "      <th>3</th>\n",
       "      <td>-1.347248</td>\n",
       "      <td>0.938839</td>\n",
       "      <td>-1.912300</td>\n",
       "      <td>-1.294052</td>\n",
       "      <td>-1.163394</td>\n",
       "      <td>2.169381</td>\n",
       "      <td>0.497848</td>\n",
       "      <td>1.557583</td>\n",
       "      <td>-1.090175</td>\n",
       "      <td>0.261356</td>\n",
       "      <td>0.634230</td>\n",
       "      <td>0.377159</td>\n",
       "      <td>0.505040</td>\n",
       "      <td>0.671563</td>\n",
       "      <td>-0.682599</td>\n",
       "      <td>-2.021611</td>\n",
       "      <td>0.464229</td>\n",
       "      <td>0.714349</td>\n",
       "      <td>0.539379</td>\n",
       "      <td>-1.019273</td>\n",
       "    </tr>\n",
       "    <tr>\n",
       "      <th>4</th>\n",
       "      <td>0.404600</td>\n",
       "      <td>-1.118837</td>\n",
       "      <td>-0.054403</td>\n",
       "      <td>-1.035765</td>\n",
       "      <td>0.795296</td>\n",
       "      <td>-0.008275</td>\n",
       "      <td>-0.985416</td>\n",
       "      <td>0.337498</td>\n",
       "      <td>-0.899442</td>\n",
       "      <td>-0.122514</td>\n",
       "      <td>0.685793</td>\n",
       "      <td>0.145265</td>\n",
       "      <td>-0.179785</td>\n",
       "      <td>0.386195</td>\n",
       "      <td>-0.437868</td>\n",
       "      <td>0.695889</td>\n",
       "      <td>-0.013126</td>\n",
       "      <td>0.451648</td>\n",
       "      <td>0.690216</td>\n",
       "      <td>-0.169378</td>\n",
       "    </tr>\n",
       "    <tr>\n",
       "      <th>...</th>\n",
       "      <td>...</td>\n",
       "      <td>...</td>\n",
       "      <td>...</td>\n",
       "      <td>...</td>\n",
       "      <td>...</td>\n",
       "      <td>...</td>\n",
       "      <td>...</td>\n",
       "      <td>...</td>\n",
       "      <td>...</td>\n",
       "      <td>...</td>\n",
       "      <td>...</td>\n",
       "      <td>...</td>\n",
       "      <td>...</td>\n",
       "      <td>...</td>\n",
       "      <td>...</td>\n",
       "      <td>...</td>\n",
       "      <td>...</td>\n",
       "      <td>...</td>\n",
       "      <td>...</td>\n",
       "      <td>...</td>\n",
       "    </tr>\n",
       "    <tr>\n",
       "      <th>42689</th>\n",
       "      <td>0.314139</td>\n",
       "      <td>-0.953851</td>\n",
       "      <td>0.053436</td>\n",
       "      <td>-0.944485</td>\n",
       "      <td>0.646874</td>\n",
       "      <td>-0.009703</td>\n",
       "      <td>-0.813501</td>\n",
       "      <td>0.310986</td>\n",
       "      <td>-0.672355</td>\n",
       "      <td>-0.165535</td>\n",
       "      <td>0.577478</td>\n",
       "      <td>0.189822</td>\n",
       "      <td>-0.280213</td>\n",
       "      <td>0.232228</td>\n",
       "      <td>-0.356102</td>\n",
       "      <td>0.657135</td>\n",
       "      <td>-0.071794</td>\n",
       "      <td>0.503109</td>\n",
       "      <td>0.722114</td>\n",
       "      <td>-0.040353</td>\n",
       "    </tr>\n",
       "    <tr>\n",
       "      <th>42690</th>\n",
       "      <td>-1.236868</td>\n",
       "      <td>0.890506</td>\n",
       "      <td>-2.162835</td>\n",
       "      <td>-1.390815</td>\n",
       "      <td>-1.173398</td>\n",
       "      <td>2.199894</td>\n",
       "      <td>0.706526</td>\n",
       "      <td>1.347787</td>\n",
       "      <td>-1.131013</td>\n",
       "      <td>0.125828</td>\n",
       "      <td>0.829569</td>\n",
       "      <td>0.480278</td>\n",
       "      <td>0.493523</td>\n",
       "      <td>0.464242</td>\n",
       "      <td>-0.488170</td>\n",
       "      <td>-2.053301</td>\n",
       "      <td>0.992628</td>\n",
       "      <td>0.705911</td>\n",
       "      <td>0.840376</td>\n",
       "      <td>-0.868737</td>\n",
       "    </tr>\n",
       "    <tr>\n",
       "      <th>42691</th>\n",
       "      <td>0.530988</td>\n",
       "      <td>-0.406774</td>\n",
       "      <td>-0.461411</td>\n",
       "      <td>-0.088362</td>\n",
       "      <td>0.497211</td>\n",
       "      <td>0.191958</td>\n",
       "      <td>0.050447</td>\n",
       "      <td>0.362089</td>\n",
       "      <td>0.204878</td>\n",
       "      <td>0.948564</td>\n",
       "      <td>-1.562313</td>\n",
       "      <td>-0.500538</td>\n",
       "      <td>0.946130</td>\n",
       "      <td>0.686346</td>\n",
       "      <td>-0.379084</td>\n",
       "      <td>-0.850102</td>\n",
       "      <td>1.016834</td>\n",
       "      <td>-0.458322</td>\n",
       "      <td>-0.898013</td>\n",
       "      <td>-1.048822</td>\n",
       "    </tr>\n",
       "    <tr>\n",
       "      <th>42692</th>\n",
       "      <td>0.730368</td>\n",
       "      <td>-0.586618</td>\n",
       "      <td>-0.493439</td>\n",
       "      <td>1.497170</td>\n",
       "      <td>0.370486</td>\n",
       "      <td>-0.837294</td>\n",
       "      <td>-0.670918</td>\n",
       "      <td>-0.623209</td>\n",
       "      <td>-0.678456</td>\n",
       "      <td>0.192001</td>\n",
       "      <td>0.428188</td>\n",
       "      <td>-0.898688</td>\n",
       "      <td>0.181378</td>\n",
       "      <td>0.005604</td>\n",
       "      <td>-1.010328</td>\n",
       "      <td>0.438113</td>\n",
       "      <td>0.077423</td>\n",
       "      <td>-0.993944</td>\n",
       "      <td>-0.756987</td>\n",
       "      <td>0.021986</td>\n",
       "    </tr>\n",
       "    <tr>\n",
       "      <th>42693</th>\n",
       "      <td>-1.207072</td>\n",
       "      <td>0.937744</td>\n",
       "      <td>-1.309791</td>\n",
       "      <td>-1.401769</td>\n",
       "      <td>-1.264301</td>\n",
       "      <td>1.731698</td>\n",
       "      <td>1.060474</td>\n",
       "      <td>1.398286</td>\n",
       "      <td>-0.317131</td>\n",
       "      <td>-0.116498</td>\n",
       "      <td>0.206903</td>\n",
       "      <td>0.809131</td>\n",
       "      <td>0.073465</td>\n",
       "      <td>-0.028256</td>\n",
       "      <td>-0.121017</td>\n",
       "      <td>-1.790094</td>\n",
       "      <td>0.192269</td>\n",
       "      <td>1.064795</td>\n",
       "      <td>0.969684</td>\n",
       "      <td>-0.421107</td>\n",
       "    </tr>\n",
       "  </tbody>\n",
       "</table>\n",
       "<p>42694 rows × 20 columns</p>\n",
       "</div>"
      ],
      "text/plain": [
       "        Genre 0   Genre 1   Genre 2   Genre 3   Genre 4   Genre 5   Genre 6  \\\n",
       "0      0.777766 -0.686244 -0.719640  1.401621  0.410168 -0.781745 -0.659786   \n",
       "1      0.682826 -0.833234 -0.860815 -0.152083  0.848347  0.645152 -0.449278   \n",
       "2      0.609459 -0.912764 -1.031587 -0.184442  0.772083  0.829414 -0.380312   \n",
       "3     -1.347248  0.938839 -1.912300 -1.294052 -1.163394  2.169381  0.497848   \n",
       "4      0.404600 -1.118837 -0.054403 -1.035765  0.795296 -0.008275 -0.985416   \n",
       "...         ...       ...       ...       ...       ...       ...       ...   \n",
       "42689  0.314139 -0.953851  0.053436 -0.944485  0.646874 -0.009703 -0.813501   \n",
       "42690 -1.236868  0.890506 -2.162835 -1.390815 -1.173398  2.199894  0.706526   \n",
       "42691  0.530988 -0.406774 -0.461411 -0.088362  0.497211  0.191958  0.050447   \n",
       "42692  0.730368 -0.586618 -0.493439  1.497170  0.370486 -0.837294 -0.670918   \n",
       "42693 -1.207072  0.937744 -1.309791 -1.401769 -1.264301  1.731698  1.060474   \n",
       "\n",
       "        Genre 7   Genre 8   Genre 9  Genre 10  Genre 11  Genre 12  Genre 13  \\\n",
       "0     -0.468616 -0.838009  0.309441  0.456302 -0.891487  0.229105  0.063681   \n",
       "1      0.404573 -0.299885  1.160783 -1.231102 -0.825216  0.856046  0.940256   \n",
       "2      0.513276 -0.377556  1.381188 -1.385354 -0.921406  0.931754  0.837440   \n",
       "3      1.557583 -1.090175  0.261356  0.634230  0.377159  0.505040  0.671563   \n",
       "4      0.337498 -0.899442 -0.122514  0.685793  0.145265 -0.179785  0.386195   \n",
       "...         ...       ...       ...       ...       ...       ...       ...   \n",
       "42689  0.310986 -0.672355 -0.165535  0.577478  0.189822 -0.280213  0.232228   \n",
       "42690  1.347787 -1.131013  0.125828  0.829569  0.480278  0.493523  0.464242   \n",
       "42691  0.362089  0.204878  0.948564 -1.562313 -0.500538  0.946130  0.686346   \n",
       "42692 -0.623209 -0.678456  0.192001  0.428188 -0.898688  0.181378  0.005604   \n",
       "42693  1.398286 -0.317131 -0.116498  0.206903  0.809131  0.073465 -0.028256   \n",
       "\n",
       "       Genre 14  Genre 15  Genre 16  Genre 17  Genre 18  Genre 19  \n",
       "0     -1.285683  0.367730  0.135037 -0.879726 -0.611217 -0.091065  \n",
       "1     -0.370464 -0.611308  0.949429 -0.289362 -0.636535 -0.761778  \n",
       "2     -0.276080 -0.680950  1.049242 -0.337964 -0.585958 -0.777355  \n",
       "3     -0.682599 -2.021611  0.464229  0.714349  0.539379 -1.019273  \n",
       "4     -0.437868  0.695889 -0.013126  0.451648  0.690216 -0.169378  \n",
       "...         ...       ...       ...       ...       ...       ...  \n",
       "42689 -0.356102  0.657135 -0.071794  0.503109  0.722114 -0.040353  \n",
       "42690 -0.488170 -2.053301  0.992628  0.705911  0.840376 -0.868737  \n",
       "42691 -0.379084 -0.850102  1.016834 -0.458322 -0.898013 -1.048822  \n",
       "42692 -1.010328  0.438113  0.077423 -0.993944 -0.756987  0.021986  \n",
       "42693 -0.121017 -1.790094  0.192269  1.064795  0.969684 -0.421107  \n",
       "\n",
       "[42694 rows x 20 columns]"
      ]
     },
     "execution_count": 155,
     "metadata": {},
     "output_type": "execute_result"
    }
   ],
   "source": [
    "feature_space_standard"
   ]
  },
  {
   "cell_type": "code",
   "execution_count": 16,
   "metadata": {},
   "outputs": [
    {
     "data": {
      "text/plain": [
       "Genre 50     3009\n",
       "Genre 138    2339\n",
       "Genre 47     2176\n",
       "Genre 5      1930\n",
       "Genre 155    1812\n",
       "             ... \n",
       "Genre 30        1\n",
       "Genre 176       1\n",
       "Genre 118       1\n",
       "Genre 127       1\n",
       "Genre 39        1\n",
       "Length: 141, dtype: int64"
      ]
     },
     "execution_count": 16,
     "metadata": {},
     "output_type": "execute_result"
    }
   ],
   "source": [
    "feature_space_standard.idxmax(axis=1).value_counts()"
   ]
  },
  {
   "cell_type": "code",
   "execution_count": 17,
   "metadata": {},
   "outputs": [],
   "source": [
    "cluster_labels = feature_space_standard.abs().idxmax(axis=1)"
   ]
  },
  {
   "cell_type": "code",
   "execution_count": 18,
   "metadata": {},
   "outputs": [],
   "source": [
    "def cluster(model, X, y):\n",
    "    # Flatten data\n",
    "#     original_shape = X.shape\n",
    "#     flattened_shape = (original_shape[0], original_shape[1]*original_shape[2])\n",
    "#     X = X.reshape(flattened_shape)\n",
    "    \n",
    "    # Fit model, get results\n",
    "    model.fit(X)\n",
    "    labels = model.labels_\n",
    "    \n",
    "    # Print scores\n",
    "    print(\"Homogeneity: %0.3f\" % metrics.homogeneity_score(y, labels))  #[0,1], 1 is best\n",
    "    print(\"Completeness: %0.3f\" % metrics.completeness_score(y, labels))#[0,1], 1 is best\n",
    "    print(\"V-measure: %0.3f\" % metrics.v_measure_score(y, labels))      #[0,1], 1 is best\n",
    "    print(\"Adjusted Rand Index: %0.3f\" % metrics.adjusted_rand_score(y, labels)) #[-0.5,1], 1 is best\n",
    "\n",
    "    n_clusters = len(set(labels)) - (1 if -1 in labels else 0)\n",
    "    \n",
    "    return n_clusters, labels"
   ]
  },
  {
   "cell_type": "code",
   "execution_count": 19,
   "metadata": {},
   "outputs": [],
   "source": [
    "np.random.seed(0)\n",
    "ind = np.random.randint(feature_space.shape[0], size=(10000,))"
   ]
  },
  {
   "cell_type": "code",
   "execution_count": 20,
   "metadata": {},
   "outputs": [],
   "source": [
    "data_to_cluster_on = feature_space[feature_space.columns[not_genres]].iloc[ind]"
   ]
  },
  {
   "cell_type": "code",
   "execution_count": 147,
   "metadata": {},
   "outputs": [
    {
     "name": "stdout",
     "output_type": "stream",
     "text": [
      "Clean data results:\n",
      "\n",
      "Homogeneity: 0.185\n",
      "Completeness: 0.120\n",
      "V-measure: 0.146\n",
      "Adjusted Rand Index: 0.006\n",
      "\n",
      "Number of clusters found: 447\n"
     ]
    }
   ],
   "source": [
    "# Clean data\n",
    "hdbscan_model = hdbscan.HDBSCAN(min_cluster_size=5)\n",
    "\n",
    "print(\"Clean data results:\\n\")\n",
    "n_clusters_found, labels = cluster(hdbscan_model, data_to_cluster_on, cluster_labels[ind])\n",
    "\n",
    "print(f\"\\nNumber of clusters found: {n_clusters_found}\")"
   ]
  },
  {
   "cell_type": "code",
   "execution_count": 193,
   "metadata": {},
   "outputs": [
    {
     "name": "stdout",
     "output_type": "stream",
     "text": [
      "Clean data results:\n",
      "\n",
      "Homogeneity: 0.253\n",
      "Completeness: 0.238\n",
      "V-measure: 0.246\n",
      "Adjusted Rand Index: 0.003\n",
      "\n",
      "Number of clusters found: 447\n"
     ]
    }
   ],
   "source": [
    "# Clean data\n",
    "hdbscan_model = hdbscan.HDBSCAN(min_cluster_size=5)\n",
    "\n",
    "print(\"Clean data results:\\n\")\n",
    "n_clusters_found, labels = cluster(hdbscan_model, data_to_cluster_on, cluster_labels[ind])\n",
    "\n",
    "print(f\"\\nNumber of clusters found: {n_clusters_found}\")"
   ]
  },
  {
   "cell_type": "code",
   "execution_count": null,
   "metadata": {},
   "outputs": [],
   "source": []
  },
  {
   "cell_type": "code",
   "execution_count": 152,
   "metadata": {},
   "outputs": [
    {
     "name": "stdout",
     "output_type": "stream",
     "text": [
      "Clean data results:\n",
      "\n"
     ]
    },
    {
     "name": "stderr",
     "output_type": "stream",
     "text": [
      "/Library/Frameworks/Python.framework/Versions/3.8/lib/python3.8/site-packages/sklearn/cluster/_kmeans.py:870: FutureWarning: The default value of `n_init` will change from 10 to 'auto' in 1.4. Set the value of `n_init` explicitly to suppress the warning\n",
      "  warnings.warn(\n"
     ]
    },
    {
     "name": "stdout",
     "output_type": "stream",
     "text": [
      "Homogeneity: 0.048\n",
      "Completeness: 0.051\n",
      "V-measure: 0.049\n",
      "Adjusted Rand Index: 0.012\n",
      "\n",
      "Number of clusters found: 20\n"
     ]
    }
   ],
   "source": [
    "kmeans = KMeans(n_clusters, random_state=0, max_iter=100)\n",
    "\n",
    "print(\"Clean data results:\\n\")\n",
    "n_clusters_found, labels = cluster(kmeans, data_to_cluster_on, cluster_labels[ind])\n",
    "\n",
    "print(f\"\\nNumber of clusters found: {n_clusters_found}\")"
   ]
  },
  {
   "cell_type": "code",
   "execution_count": 21,
   "metadata": {},
   "outputs": [
    {
     "name": "stdout",
     "output_type": "stream",
     "text": [
      "Clean data results:\n",
      "\n"
     ]
    },
    {
     "name": "stderr",
     "output_type": "stream",
     "text": [
      "/Library/Frameworks/Python.framework/Versions/3.8/lib/python3.8/site-packages/sklearn/cluster/_kmeans.py:870: FutureWarning: The default value of `n_init` will change from 10 to 'auto' in 1.4. Set the value of `n_init` explicitly to suppress the warning\n",
      "  warnings.warn(\n"
     ]
    },
    {
     "name": "stdout",
     "output_type": "stream",
     "text": [
      "Homogeneity: 0.198\n",
      "Completeness: 0.158\n",
      "V-measure: 0.176\n",
      "Adjusted Rand Index: 0.006\n",
      "\n",
      "Number of clusters found: 200\n"
     ]
    }
   ],
   "source": [
    "kmeans = KMeans(n_clusters, random_state=0, max_iter=100)\n",
    "\n",
    "print(\"Clean data results:\\n\")\n",
    "n_clusters_found, labels = cluster(kmeans, data_to_cluster_on, cluster_labels[ind])\n",
    "\n",
    "print(f\"\\nNumber of clusters found: {n_clusters_found}\")"
   ]
  },
  {
   "cell_type": "code",
   "execution_count": null,
   "metadata": {},
   "outputs": [],
   "source": []
  }
 ],
 "metadata": {
  "kernelspec": {
   "display_name": "Python 3",
   "language": "python",
   "name": "python3"
  },
  "language_info": {
   "codemirror_mode": {
    "name": "ipython",
    "version": 3
   },
   "file_extension": ".py",
   "mimetype": "text/x-python",
   "name": "python",
   "nbconvert_exporter": "python",
   "pygments_lexer": "ipython3",
   "version": "3.8.1"
  }
 },
 "nbformat": 4,
 "nbformat_minor": 4
}
